{
 "cells": [
  {
   "cell_type": "code",
   "execution_count": 1,
   "id": "0a02b8c5-a34f-4ff1-9fdd-232eae93bca5",
   "metadata": {},
   "outputs": [
    {
     "data": {
      "text/html": [
       "<div>\n",
       "<style scoped>\n",
       "    .dataframe tbody tr th:only-of-type {\n",
       "        vertical-align: middle;\n",
       "    }\n",
       "\n",
       "    .dataframe tbody tr th {\n",
       "        vertical-align: top;\n",
       "    }\n",
       "\n",
       "    .dataframe thead th {\n",
       "        text-align: right;\n",
       "    }\n",
       "</style>\n",
       "<table border=\"1\" class=\"dataframe\">\n",
       "  <thead>\n",
       "    <tr style=\"text-align: right;\">\n",
       "      <th></th>\n",
       "      <th>Date</th>\n",
       "      <th>DOM</th>\n",
       "      <th>EXT</th>\n",
       "      <th>BDOM</th>\n",
       "      <th>BEXT</th>\n",
       "    </tr>\n",
       "  </thead>\n",
       "  <tbody>\n",
       "    <tr>\n",
       "      <th>0</th>\n",
       "      <td>10/08/2018</td>\n",
       "      <td>Marseille</td>\n",
       "      <td>Toulouse</td>\n",
       "      <td>4</td>\n",
       "      <td>0</td>\n",
       "    </tr>\n",
       "    <tr>\n",
       "      <th>1</th>\n",
       "      <td>11/08/2018</td>\n",
       "      <td>Angers</td>\n",
       "      <td>Nimes</td>\n",
       "      <td>3</td>\n",
       "      <td>4</td>\n",
       "    </tr>\n",
       "    <tr>\n",
       "      <th>2</th>\n",
       "      <td>11/08/2018</td>\n",
       "      <td>Lille</td>\n",
       "      <td>Rennes</td>\n",
       "      <td>3</td>\n",
       "      <td>1</td>\n",
       "    </tr>\n",
       "    <tr>\n",
       "      <th>3</th>\n",
       "      <td>11/08/2018</td>\n",
       "      <td>Montpellier</td>\n",
       "      <td>Dijon</td>\n",
       "      <td>1</td>\n",
       "      <td>2</td>\n",
       "    </tr>\n",
       "    <tr>\n",
       "      <th>4</th>\n",
       "      <td>11/08/2018</td>\n",
       "      <td>Nantes</td>\n",
       "      <td>Monaco</td>\n",
       "      <td>1</td>\n",
       "      <td>3</td>\n",
       "    </tr>\n",
       "  </tbody>\n",
       "</table>\n",
       "</div>"
      ],
      "text/plain": [
       "         Date          DOM       EXT  BDOM  BEXT\n",
       "0  10/08/2018    Marseille  Toulouse     4     0\n",
       "1  11/08/2018       Angers     Nimes     3     4\n",
       "2  11/08/2018        Lille    Rennes     3     1\n",
       "3  11/08/2018  Montpellier     Dijon     1     2\n",
       "4  11/08/2018       Nantes    Monaco     1     3"
      ]
     },
     "execution_count": 1,
     "metadata": {},
     "output_type": "execute_result"
    }
   ],
   "source": [
    "#import pylab as pl\n",
    "import matplotlib.pyplot as pl\n",
    "import pandas as pa\n",
    "\n",
    "T = pa.read_csv('season-1819.csv')\n",
    "\n",
    "col = ['Date', 'HomeTeam', 'AwayTeam', 'FTHG', 'FTAG']\n",
    "T = T[col]\n",
    "\n",
    "T.rename(columns = {'HomeTeam' : 'DOM', 'AwayTeam' : 'EXT', 'FTHG' : 'BDOM', 'FTAG' : 'BEXT'}, inplace = True )\n",
    "\n",
    "T.head()"
   ]
  },
  {
   "cell_type": "code",
   "execution_count": 2,
   "id": "b11395e0-f821-48e5-aaef-0965c379e5d1",
   "metadata": {},
   "outputs": [
    {
     "data": {
      "text/plain": [
       "380"
      ]
     },
     "execution_count": 2,
     "metadata": {},
     "output_type": "execute_result"
    }
   ],
   "source": [
    "len(T)"
   ]
  },
  {
   "cell_type": "code",
   "execution_count": 3,
   "id": "7b19f8a6-ec93-4a75-aad5-64caa9f7da6a",
   "metadata": {},
   "outputs": [
    {
     "data": {
      "text/plain": [
       "0     88\n",
       "1    127\n",
       "2     99\n",
       "3     43\n",
       "4     14\n",
       "5      8\n",
       "9      1\n",
       "Name: BDOM, dtype: int64"
      ]
     },
     "execution_count": 3,
     "metadata": {},
     "output_type": "execute_result"
    }
   ],
   "source": [
    "M = T['BDOM'].value_counts().sort_index()\n",
    "M"
   ]
  },
  {
   "cell_type": "code",
   "execution_count": 4,
   "id": "6daadfa7-da5d-465c-8842-409af3f4568f",
   "metadata": {},
   "outputs": [
    {
     "data": {
      "text/plain": [
       "([<matplotlib.axis.XTick at 0x25939919590>,\n",
       "  <matplotlib.axis.XTick at 0x2593990ef50>,\n",
       "  <matplotlib.axis.XTick at 0x25930718890>,\n",
       "  <matplotlib.axis.XTick at 0x2593996b450>,\n",
       "  <matplotlib.axis.XTick at 0x25939971490>,\n",
       "  <matplotlib.axis.XTick at 0x259399739d0>,\n",
       "  <matplotlib.axis.XTick at 0x25939975e90>,\n",
       "  <matplotlib.axis.XTick at 0x25939978250>,\n",
       "  <matplotlib.axis.XTick at 0x2593997a790>,\n",
       "  <matplotlib.axis.XTick at 0x2593981b950>],\n",
       " [Text(0, 0, '0'),\n",
       "  Text(1, 0, '1'),\n",
       "  Text(2, 0, '2'),\n",
       "  Text(3, 0, '3'),\n",
       "  Text(4, 0, '4'),\n",
       "  Text(5, 0, '5'),\n",
       "  Text(6, 0, '9'),\n",
       "  Text(7, 0, ''),\n",
       "  Text(8, 0, ''),\n",
       "  Text(9, 0, '')])"
      ]
     },
     "execution_count": 4,
     "metadata": {},
     "output_type": "execute_result"
    },
    {
     "data": {
      "image/png": "[encoded data removed]",
      "text/plain": [
       "<Figure size 640x480 with 1 Axes>"
      ]
     },
     "metadata": {},
     "output_type": "display_data"
    }
   ],
   "source": [
    "M.plot.bar(color = 'black')\n",
    "pl.xlabel('Buts par match')\n",
    "pl.xticks(range(10), rotation = 0)"
   ]
  },
  {
   "cell_type": "code",
   "execution_count": 5,
   "id": "53fbcae0-d7b2-4b5c-a5f1-17ace7c6f39a",
   "metadata": {},
   "outputs": [
    {
     "name": "stderr",
     "output_type": "stream",
     "text": [
      "C:\\Users\\ACER\\AppData\\Local\\Temp\\ipykernel_8376\\1430832800.py:1: FutureWarning: The default value of numeric_only in DataFrame.mean is deprecated. In a future version, it will default to False. In addition, specifying 'numeric_only=None' is deprecated. Select only valid columns or specify the value of numeric_only to silence this warning.\n",
      "  m = T.mean()\n"
     ]
    },
    {
     "data": {
      "text/plain": [
       "BDOM    1.471053\n",
       "BEXT    1.086842\n",
       "dtype: float64"
      ]
     },
     "execution_count": 5,
     "metadata": {},
     "output_type": "execute_result"
    }
   ],
   "source": [
    "m = T.mean()\n",
    "m"
   ]
  },
  {
   "cell_type": "code",
   "execution_count": 6,
   "id": "07e4d654-a421-4347-9440-06879c6e48af",
   "metadata": {},
   "outputs": [
    {
     "data": {
      "text/plain": [
       "1.4710526315789474"
      ]
     },
     "execution_count": 6,
     "metadata": {},
     "output_type": "execute_result"
    }
   ],
   "source": [
    "m['BDOM']"
   ]
  },
  {
   "cell_type": "code",
   "execution_count": 7,
   "id": "1fe436c2-8ba6-40eb-a86c-d6f902aea14b",
   "metadata": {},
   "outputs": [
    {
     "data": {
      "text/plain": [
       "1.0868421052631578"
      ]
     },
     "execution_count": 7,
     "metadata": {},
     "output_type": "execute_result"
    }
   ],
   "source": [
    "m['BEXT']"
   ]
  },
  {
   "cell_type": "code",
   "execution_count": 8,
   "id": "55514805-e0b4-4491-8dc2-531c52dd3bac",
   "metadata": {},
   "outputs": [
    {
     "data": {
      "text/plain": [
       "[85.16044125864526,\n",
       " 129.50915300533373,\n",
       " 96.2882270515444,\n",
       " 46.64127750514823,\n",
       " 16.550449085089646,\n",
       " 4.586418506513136,\n",
       " 1.0333143683940296]"
      ]
     },
     "execution_count": 8,
     "metadata": {},
     "output_type": "execute_result"
    }
   ],
   "source": [
    "from scipy.stats import binom\n",
    "\n",
    "X = binom(45, m['BDOM']/45)\n",
    "E = [380 * X.pmf(k) for k in range(7)]\n",
    "E"
   ]
  },
  {
   "cell_type": "code",
   "execution_count": 9,
   "id": "7f7fe9e7-9417-4dbc-a942-422072bc1268",
   "metadata": {},
   "outputs": [
    {
     "data": {
      "text/plain": [
       "<matplotlib.legend.Legend at 0x2594352f090>"
      ]
     },
     "execution_count": 9,
     "metadata": {},
     "output_type": "execute_result"
    },
    {
     "data": {
      "image/png": "[encoded data removed]",
      "text/plain": [
       "<Figure size 640x480 with 1 Axes>"
      ]
     },
     "metadata": {},
     "output_type": "display_data"
    }
   ],
   "source": [
    "M.plot.bar(color = 'black')\n",
    "pl.bar(range(7), E, color = 'red', alpha = 0.5, label = 'Théorie')\n",
    "pl.xlabel('Buts par match')\n",
    "pl.xticks(range(10), rotation = 0)\n",
    "pl.legend(labels = ['Saison 2018/2019', 'Théorie'])"
   ]
  },
  {
   "cell_type": "code",
   "execution_count": 10,
   "id": "c705c6cc-0433-4dcd-b552-8758482106a4",
   "metadata": {},
   "outputs": [
    {
     "name": "stderr",
     "output_type": "stream",
     "text": [
      "C:\\Users\\ACER\\AppData\\Local\\Temp\\ipykernel_8376\\2640204658.py:1: FutureWarning: The default value of numeric_only in DataFrame.mean is deprecated. In a future version, it will default to False. In addition, specifying 'numeric_only=None' is deprecated. Select only valid columns or specify the value of numeric_only to silence this warning.\n",
      "  TD = T.query('DOM == \"Marseille\"').mean()\n"
     ]
    },
    {
     "data": {
      "text/plain": [
       "BDOM    1.631579\n",
       "BEXT    0.894737\n",
       "dtype: float64"
      ]
     },
     "execution_count": 10,
     "metadata": {},
     "output_type": "execute_result"
    }
   ],
   "source": [
    "TD = T.query('DOM == \"Marseille\"').mean()\n",
    "TD"
   ]
  },
  {
   "cell_type": "code",
   "execution_count": 11,
   "id": "f6b93ce1-d9d7-405b-94ba-6a3bf928677f",
   "metadata": {},
   "outputs": [
    {
     "data": {
      "text/plain": [
       "1.10912343470483"
      ]
     },
     "execution_count": 11,
     "metadata": {},
     "output_type": "execute_result"
    }
   ],
   "source": [
    "TD['BDOM'] / m['BDOM']"
   ]
  },
  {
   "cell_type": "code",
   "execution_count": 12,
   "id": "d88ab286-1029-42b6-b55f-838cae2315f4",
   "metadata": {},
   "outputs": [
    {
     "data": {
      "text/plain": [
       "0.8232445520581114"
      ]
     },
     "execution_count": 12,
     "metadata": {},
     "output_type": "execute_result"
    }
   ],
   "source": [
    "TD['BEXT'] / m['BEXT']"
   ]
  },
  {
   "cell_type": "code",
   "execution_count": 13,
   "id": "60ad6791-23c8-4906-a23a-b2f860c26667",
   "metadata": {},
   "outputs": [
    {
     "name": "stderr",
     "output_type": "stream",
     "text": [
      "C:\\Users\\ACER\\AppData\\Local\\Temp\\ipykernel_8376\\3717343057.py:1: FutureWarning: The default value of numeric_only in DataFrame.mean is deprecated. In a future version, it will default to False. In addition, specifying 'numeric_only=None' is deprecated. Select only valid columns or specify the value of numeric_only to silence this warning.\n",
      "  TE = T.query('EXT == \"Toulouse\"').mean()\n"
     ]
    },
    {
     "data": {
      "text/plain": [
       "BDOM    1.631579\n",
       "BEXT    0.789474\n",
       "dtype: float64"
      ]
     },
     "execution_count": 13,
     "metadata": {},
     "output_type": "execute_result"
    }
   ],
   "source": [
    "TE = T.query('EXT == \"Toulouse\"').mean()\n",
    "TE"
   ]
  },
  {
   "cell_type": "code",
   "execution_count": 14,
   "id": "890cb6ad-000d-454b-9d70-2536f45754da",
   "metadata": {},
   "outputs": [
    {
     "data": {
      "text/plain": [
       "1.10912343470483"
      ]
     },
     "execution_count": 14,
     "metadata": {},
     "output_type": "execute_result"
    }
   ],
   "source": [
    "TE['BDOM'] / m['BDOM']"
   ]
  },
  {
   "cell_type": "code",
   "execution_count": 15,
   "id": "8a12167a-4d33-4471-b7cb-9832549338de",
   "metadata": {},
   "outputs": [
    {
     "data": {
      "text/plain": [
       "0.7263922518159807"
      ]
     },
     "execution_count": 15,
     "metadata": {},
     "output_type": "execute_result"
    }
   ],
   "source": [
    "TE['BEXT'] / m['BEXT']"
   ]
  },
  {
   "cell_type": "code",
   "execution_count": 16,
   "id": "3e177866-0291-4396-8b1a-4c032fbfd281",
   "metadata": {},
   "outputs": [
    {
     "data": {
      "text/plain": [
       "1.809622446097354"
      ]
     },
     "execution_count": 16,
     "metadata": {},
     "output_type": "execute_result"
    }
   ],
   "source": [
    "(TD['BDOM'] / m['BDOM']) * (TE['BDOM'] / m['BDOM']) * m['BDOM']"
   ]
  },
  {
   "cell_type": "code",
   "execution_count": 17,
   "id": "4c06c1d8-d265-4f49-8c68-7391ea91f2c4",
   "metadata": {},
   "outputs": [
    {
     "data": {
      "text/plain": [
       "0.6499299095195616"
      ]
     },
     "execution_count": 17,
     "metadata": {},
     "output_type": "execute_result"
    }
   ],
   "source": [
    "(TD['BEXT'] / m['BEXT']) * (TE['BEXT'] / m['BEXT']) * m['BEXT']"
   ]
  },
  {
   "cell_type": "code",
   "execution_count": 18,
   "id": "4798c49e-7d17-435d-9915-6ac53b17f5de",
   "metadata": {},
   "outputs": [],
   "source": [
    "def Esp(e1, e2):\n",
    "    TD = T.query('DOM == @e1').mean()\n",
    "    TE = T.query('EXT == @e2').mean()\n",
    "    EX = TD['BDOM'] * TE['BDOM'] / m['BDOM']\n",
    "    EY = TD['BEXT'] * TE['BEXT'] / m['BEXT']\n",
    "    \n",
    "    return EX, EY"
   ]
  },
  {
   "cell_type": "code",
   "execution_count": 19,
   "id": "2cf70d38-2031-4bf0-9bb7-9e329eae92af",
   "metadata": {},
   "outputs": [
    {
     "name": "stderr",
     "output_type": "stream",
     "text": [
      "C:\\Users\\ACER\\AppData\\Local\\Temp\\ipykernel_8376\\2584379806.py:2: FutureWarning: The default value of numeric_only in DataFrame.mean is deprecated. In a future version, it will default to False. In addition, specifying 'numeric_only=None' is deprecated. Select only valid columns or specify the value of numeric_only to silence this warning.\n",
      "  TD = T.query('DOM == @e1').mean()\n",
      "C:\\Users\\ACER\\AppData\\Local\\Temp\\ipykernel_8376\\2584379806.py:3: FutureWarning: The default value of numeric_only in DataFrame.mean is deprecated. In a future version, it will default to False. In addition, specifying 'numeric_only=None' is deprecated. Select only valid columns or specify the value of numeric_only to silence this warning.\n",
      "  TE = T.query('EXT == @e2').mean()\n"
     ]
    },
    {
     "data": {
      "text/plain": [
       "(1.809622446097354, 0.6499299095195616)"
      ]
     },
     "execution_count": 19,
     "metadata": {},
     "output_type": "execute_result"
    }
   ],
   "source": [
    "m1, m2 = Esp('Marseille', 'Toulouse')\n",
    "m1, m2"
   ]
  },
  {
   "cell_type": "code",
   "execution_count": 20,
   "id": "743a8786-fc96-42a5-95ad-5ebaf5dd89b4",
   "metadata": {},
   "outputs": [
    {
     "data": {
      "text/plain": [
       "0.2182054853357182"
      ]
     },
     "execution_count": 20,
     "metadata": {},
     "output_type": "execute_result"
    }
   ],
   "source": [
    "X = binom(45, m1 / 45)\n",
    "Y = binom(45, m2 / 45)\n",
    "s = 0\n",
    "for i in range(7):\n",
    "    s = s + X.pmf(i) * Y.pmf(i)\n",
    "s"
   ]
  },
  {
   "cell_type": "code",
   "execution_count": 21,
   "id": "05e8bf18-6abb-47c2-bee8-72fc00dd17d3",
   "metadata": {},
   "outputs": [
    {
     "name": "stderr",
     "output_type": "stream",
     "text": [
      "C:\\Users\\ACER\\AppData\\Local\\Temp\\ipykernel_8376\\2584379806.py:2: FutureWarning: The default value of numeric_only in DataFrame.mean is deprecated. In a future version, it will default to False. In addition, specifying 'numeric_only=None' is deprecated. Select only valid columns or specify the value of numeric_only to silence this warning.\n",
      "  TD = T.query('DOM == @e1').mean()\n",
      "C:\\Users\\ACER\\AppData\\Local\\Temp\\ipykernel_8376\\2584379806.py:3: FutureWarning: The default value of numeric_only in DataFrame.mean is deprecated. In a future version, it will default to False. In addition, specifying 'numeric_only=None' is deprecated. Select only valid columns or specify the value of numeric_only to silence this warning.\n",
      "  TE = T.query('EXT == @e2').mean()\n",
      "C:\\Users\\ACER\\AppData\\Local\\Temp\\ipykernel_8376\\2584379806.py:2: FutureWarning: The default value of numeric_only in DataFrame.mean is deprecated. In a future version, it will default to False. In addition, specifying 'numeric_only=None' is deprecated. Select only valid columns or specify the value of numeric_only to silence this warning.\n",
      "  TD = T.query('DOM == @e1').mean()\n",
      "C:\\Users\\ACER\\AppData\\Local\\Temp\\ipykernel_8376\\2584379806.py:3: FutureWarning: The default value of numeric_only in DataFrame.mean is deprecated. In a future version, it will default to False. In addition, specifying 'numeric_only=None' is deprecated. Select only valid columns or specify the value of numeric_only to silence this warning.\n",
      "  TE = T.query('EXT == @e2').mean()\n"
     ]
    },
    {
     "data": {
      "text/html": [
       "<div>\n",
       "<style scoped>\n",
       "    .dataframe tbody tr th:only-of-type {\n",
       "        vertical-align: middle;\n",
       "    }\n",
       "\n",
       "    .dataframe tbody tr th {\n",
       "        vertical-align: top;\n",
       "    }\n",
       "\n",
       "    .dataframe thead th {\n",
       "        text-align: right;\n",
       "    }\n",
       "</style>\n",
       "<table border=\"1\" class=\"dataframe\">\n",
       "  <thead>\n",
       "    <tr style=\"text-align: right;\">\n",
       "      <th></th>\n",
       "      <th>Date</th>\n",
       "      <th>DOM</th>\n",
       "      <th>EXT</th>\n",
       "      <th>BDOM</th>\n",
       "      <th>BEXT</th>\n",
       "      <th>EX</th>\n",
       "      <th>EY</th>\n",
       "    </tr>\n",
       "  </thead>\n",
       "  <tbody>\n",
       "    <tr>\n",
       "      <th>0</th>\n",
       "      <td>10/08/2018</td>\n",
       "      <td>Marseille</td>\n",
       "      <td>Toulouse</td>\n",
       "      <td>4</td>\n",
       "      <td>0</td>\n",
       "      <td>1.809622</td>\n",
       "      <td>0.649930</td>\n",
       "    </tr>\n",
       "    <tr>\n",
       "      <th>1</th>\n",
       "      <td>11/08/2018</td>\n",
       "      <td>Angers</td>\n",
       "      <td>Nimes</td>\n",
       "      <td>3</td>\n",
       "      <td>4</td>\n",
       "      <td>1.717352</td>\n",
       "      <td>1.513954</td>\n",
       "    </tr>\n",
       "    <tr>\n",
       "      <th>2</th>\n",
       "      <td>11/08/2018</td>\n",
       "      <td>Lille</td>\n",
       "      <td>Rennes</td>\n",
       "      <td>3</td>\n",
       "      <td>1</td>\n",
       "      <td>2.689012</td>\n",
       "      <td>0.785013</td>\n",
       "    </tr>\n",
       "    <tr>\n",
       "      <th>3</th>\n",
       "      <td>11/08/2018</td>\n",
       "      <td>Montpellier</td>\n",
       "      <td>Dijon</td>\n",
       "      <td>1</td>\n",
       "      <td>2</td>\n",
       "      <td>1.809622</td>\n",
       "      <td>0.662674</td>\n",
       "    </tr>\n",
       "    <tr>\n",
       "      <th>4</th>\n",
       "      <td>11/08/2018</td>\n",
       "      <td>Nantes</td>\n",
       "      <td>Monaco</td>\n",
       "      <td>1</td>\n",
       "      <td>3</td>\n",
       "      <td>1.845401</td>\n",
       "      <td>1.162228</td>\n",
       "    </tr>\n",
       "  </tbody>\n",
       "</table>\n",
       "</div>"
      ],
      "text/plain": [
       "         Date          DOM       EXT  BDOM  BEXT        EX        EY\n",
       "0  10/08/2018    Marseille  Toulouse     4     0  1.809622  0.649930\n",
       "1  11/08/2018       Angers     Nimes     3     4  1.717352  1.513954\n",
       "2  11/08/2018        Lille    Rennes     3     1  2.689012  0.785013\n",
       "3  11/08/2018  Montpellier     Dijon     1     2  1.809622  0.662674\n",
       "4  11/08/2018       Nantes    Monaco     1     3  1.845401  1.162228"
      ]
     },
     "execution_count": 21,
     "metadata": {},
     "output_type": "execute_result"
    }
   ],
   "source": [
    "for match in range(380):\n",
    "    e1 = T.loc[match, 'DOM']\n",
    "    e2 = T.loc[match, 'EXT']\n",
    "    T.loc[match, 'EX'], T.loc[match, 'EY'] = Esp(e1, e2)\n",
    "T.head()"
   ]
  },
  {
   "cell_type": "code",
   "execution_count": 22,
   "id": "41f4b110-9d08-4a67-8140-3f462c08f20a",
   "metadata": {},
   "outputs": [
    {
     "data": {
      "text/plain": [
       "{'Toulouse': 0,\n",
       " 'Guingamp': 0,\n",
       " 'St Etienne': 0,\n",
       " 'Strasbourg': 0,\n",
       " 'Marseille': 0,\n",
       " 'Bordeaux': 0,\n",
       " 'Lyon': 0,\n",
       " 'Angers': 0,\n",
       " 'Monaco': 0,\n",
       " 'Caen': 0,\n",
       " 'Reims': 0,\n",
       " 'Paris SG': 0,\n",
       " 'Nimes': 0,\n",
       " 'Nantes': 0,\n",
       " 'Nice': 0,\n",
       " 'Dijon': 0,\n",
       " 'Lille': 0,\n",
       " 'Rennes': 0,\n",
       " 'Amiens': 0,\n",
       " 'Montpellier': 0}"
      ]
     },
     "execution_count": 22,
     "metadata": {},
     "output_type": "execute_result"
    }
   ],
   "source": [
    "P_Off = {equipe : 0 for equipe in set(T['DOM'])}\n",
    "P_Off"
   ]
  },
  {
   "cell_type": "code",
   "execution_count": 23,
   "id": "8a574c8a-e7ed-45b9-8d0a-f02c103b24fa",
   "metadata": {},
   "outputs": [
    {
     "data": {
      "text/plain": [
       "{'Toulouse': 38,\n",
       " 'Guingamp': 27,\n",
       " 'St Etienne': 66,\n",
       " 'Strasbourg': 49,\n",
       " 'Marseille': 61,\n",
       " 'Bordeaux': 41,\n",
       " 'Lyon': 72,\n",
       " 'Angers': 46,\n",
       " 'Monaco': 36,\n",
       " 'Caen': 33,\n",
       " 'Reims': 55,\n",
       " 'Paris SG': 91,\n",
       " 'Nimes': 53,\n",
       " 'Nantes': 48,\n",
       " 'Nice': 56,\n",
       " 'Dijon': 34,\n",
       " 'Lille': 75,\n",
       " 'Rennes': 52,\n",
       " 'Amiens': 38,\n",
       " 'Montpellier': 59}"
      ]
     },
     "execution_count": 23,
     "metadata": {},
     "output_type": "execute_result"
    }
   ],
   "source": [
    "for e1, e2, x, y in zip(T['DOM'], T['EXT'], T['BDOM'], T['BEXT']):\n",
    "    if x > y:\n",
    "        P_Off[e1] = P_Off[e1] + 3\n",
    "    elif x == y:\n",
    "        P_Off[e1] = P_Off[e1] + 1\n",
    "        P_Off[e2] = P_Off[e2] + 1\n",
    "    else: \n",
    "        P_Off[e2] = P_Off[e2] + 3\n",
    "P_Off"
   ]
  },
  {
   "cell_type": "code",
   "execution_count": 24,
   "id": "e1d19812-af8e-4eea-b44d-2f01d2086ef3",
   "metadata": {},
   "outputs": [],
   "source": [
    "from random import *\n",
    "from math import floor\n",
    "\n",
    "def nb_buts(EX):\n",
    "    X = 0\n",
    "    for k in range(45):\n",
    "        X = X + floor(random() + EX/45)\n",
    "    return X"
   ]
  },
  {
   "cell_type": "code",
   "execution_count": 25,
   "id": "6d13a129-a4bd-4ceb-8b14-c2e88f42c4e7",
   "metadata": {},
   "outputs": [],
   "source": [
    "def simulation(n):\n",
    "    P = {team : 0 for team in set(T['DOM'])}\n",
    "    for k in range(n):\n",
    "        for e1, e2, EX, EY in zip(T['DOM'], T['EXT'], T['EX'], T['EY']):\n",
    "            x = nb_buts(EX)\n",
    "            y = nb_buts(EY)\n",
    "            if x > y :\n",
    "                P[e1] = P[e1] + 3\n",
    "            elif x == y:\n",
    "                P[e1] = P[e1] + 1\n",
    "                P[e2] = P[e2] + 1\n",
    "            else :\n",
    "                P[e2] = P[e2] + 3       \n",
    "    return {equipe : P[equipe]/n for equipe in P }"
   ]
  },
  {
   "cell_type": "code",
   "execution_count": null,
   "id": "f1f3ff5a-1339-4884-80a7-13c3ef4bfab1",
   "metadata": {},
   "outputs": [],
   "source": [
    "P_Sim = simulation(20000)\n",
    "P_Sim"
   ]
  },
  {
   "cell_type": "code",
   "execution_count": null,
   "id": "62c78c01-f913-4752-839d-0be2e5ec569e",
   "metadata": {},
   "outputs": [],
   "source": [
    "M = pa.DataFrame()\n",
    "M['Equipe'] = list(set(T['DOM']))\n",
    "for k in range(20):\n",
    "    equipe = M.loc[k, 'Equipe']\n",
    "    M.loc[k, 'Points_Off'] = P_Off[equipe]\n",
    "    M.loc[k, 'Points_Sim'] = P_Sim[equipe]\n",
    "\n",
    "# création de ka colonne des rangs officiels   \n",
    "M['Rangs_Off'] = M['Points_Off'].rank(ascending = False)\n",
    "M['Rangs_Off'] = M['Rangs_Off'].astype(int)\n",
    "\n",
    "# création de ka colonne des rangs simulés\n",
    "M['Rangs_Sim'] = M['Points_Sim'].rank(ascending = False)\n",
    "M['Rangs_Sim'] = M['Rangs_Sim'].astype(int)\n",
    "\n",
    "#Affichage de T trié selon Points_Off\n",
    "M.sort_values(by = 'Points_Off', ascending = False)"
   ]
  },
  {
   "cell_type": "code",
   "execution_count": null,
   "id": "935a8bb5-67fc-427d-9694-fea76e627c86",
   "metadata": {},
   "outputs": [],
   "source": [
    "import pandas as pa\n",
    "import glob\n",
    "import csv, os\n",
    "\n",
    "path = \"C:/Users/ACER/datascience/premier-league\"\n",
    "files_joined = os.path.join(path, \"season*.csv\")\n",
    "list_files = glob.glob(files_joined)\n",
    "T = pa.concat(map(pa.read_csv, list_files), ignore_index=True)\n",
    "\n",
    "col = ['Date', 'HomeTeam', 'AwayTeam', 'FTHG', 'FTAG']\n",
    "T = T[col]\n",
    "\n",
    "T.rename(columns = {'HomeTeam' : 'DOM', 'AwayTeam' : 'EXT', 'FTHG' : 'BDOM', 'FTAG' : 'BEXT'}, inplace = True )\n",
    "\n",
    "\n",
    "T.head()"
   ]
  },
  {
   "cell_type": "code",
   "execution_count": null,
   "id": "6247f46e-fbc2-45c3-85d6-e3b6bf9bfdd5",
   "metadata": {},
   "outputs": [],
   "source": [
    "len(T)"
   ]
  },
  {
   "cell_type": "code",
   "execution_count": null,
   "id": "4bee3679-fae6-43b0-afb2-f24e9ff421fb",
   "metadata": {},
   "outputs": [],
   "source": [
    "len(T.query('BDOM == 0 and BEXT == 0'))"
   ]
  },
  {
   "cell_type": "code",
   "execution_count": null,
   "id": "e7f7107a",
   "metadata": {},
   "outputs": [],
   "source": [
    "len( T.query('BDOM == 0 and BEXT == 0')) / len(T)"
   ]
  },
  {
   "cell_type": "code",
   "execution_count": null,
   "id": "391ed9b1",
   "metadata": {},
   "outputs": [],
   "source": [
    "T.query('BDOM == BEXT')"
   ]
  },
  {
   "cell_type": "code",
   "execution_count": null,
   "id": "c6ec13d8",
   "metadata": {},
   "outputs": [],
   "source": [
    "p = len( T.query('BDOM == BEXT')) / len(T)\n",
    "p"
   ]
  },
  {
   "cell_type": "code",
   "execution_count": null,
   "id": "42c4af26",
   "metadata": {},
   "outputs": [],
   "source": [
    "S = T.query('DOM in [\"Everton\", \"Liverpool\"] and \\\n",
    "            EXT in [\"Everton\", \"Liverpool\"]')\n",
    "S"
   ]
  },
  {
   "cell_type": "code",
   "execution_count": null,
   "id": "d60bda47",
   "metadata": {},
   "outputs": [],
   "source": [
    "n = len(S.query('BDOM == BEXT'))\n",
    "n"
   ]
  },
  {
   "cell_type": "code",
   "execution_count": null,
   "id": "89a7543e",
   "metadata": {},
   "outputs": [],
   "source": [
    "from scipy.stats import binom"
   ]
  },
  {
   "cell_type": "code",
   "execution_count": null,
   "id": "870c3ce9",
   "metadata": {},
   "outputs": [],
   "source": [
    "X = binom(12, p)\n",
    "1 - X.cdf(6)"
   ]
  },
  {
   "cell_type": "code",
   "execution_count": null,
   "id": "618ea657",
   "metadata": {},
   "outputs": [],
   "source": [
    "R = T.groupby(['BDOM', 'BEXT']).count()\n",
    "R = R[['Date']]\n",
    "R.reset_index(inplace = True)\n",
    "R"
   ]
  },
  {
   "cell_type": "code",
   "execution_count": null,
   "id": "ddd38639",
   "metadata": {},
   "outputs": [],
   "source": [
    "R['Freq'] = R['Date'] / len(T)"
   ]
  },
  {
   "cell_type": "code",
   "execution_count": null,
   "id": "51a2b37e",
   "metadata": {},
   "outputs": [],
   "source": [
    "R.sort_values('Date', ascending = False, inplace=True)\n",
    "R.head(10)"
   ]
  },
  {
   "cell_type": "code",
   "execution_count": null,
   "id": "c681be96",
   "metadata": {},
   "outputs": [],
   "source": [
    "import pandas as pa\n",
    "import glob\n",
    "import csv, os\n",
    "\n",
    "path = \"C:/Users/ACER/datascience/premier-league\"\n",
    "files_joined = os.path.join(path, \"season*.csv\")\n",
    "list_files = glob.glob(files_joined)\n",
    "T = pa.concat(map(pa.read_csv, list_files), ignore_index=True)\n",
    "\n",
    "col = ['Date', 'HomeTeam', 'AwayTeam', 'FTHG', 'FTAG']\n",
    "T = T[col]\n",
    "\n",
    "T.rename(columns = {'HomeTeam' : 'DOM', 'AwayTeam' : 'EXT', 'FTHG' : 'BDOM', 'FTAG' : 'BEXT'}, inplace = True )\n",
    "\n",
    "\n",
    "T.head()"
   ]
  },
  {
   "cell_type": "code",
   "execution_count": null,
   "id": "fd2783f8",
   "metadata": {},
   "outputs": [],
   "source": [
    "len(T)"
   ]
  },
  {
   "cell_type": "code",
   "execution_count": null,
   "id": "e354c938",
   "metadata": {},
   "outputs": [],
   "source": [
    "pa.crosstab(T['BDOM'], T['BEXT'],\n",
    "           margins = True,\n",
    "           normalize = False)"
   ]
  },
  {
   "cell_type": "code",
   "execution_count": null,
   "id": "2bf4922f",
   "metadata": {},
   "outputs": [],
   "source": [
    "P = pa.crosstab(T['BDOM'], T['BEXT'],\n",
    "           margins = True,\n",
    "           normalize = True)\n",
    "P"
   ]
  },
  {
   "cell_type": "code",
   "execution_count": null,
   "id": "751e746c",
   "metadata": {},
   "outputs": [],
   "source": [
    "EX = 0\n",
    "for k in range(9):\n",
    "    EX = EX + k * P.loc[k, 'All']\n",
    "EX"
   ]
  },
  {
   "cell_type": "code",
   "execution_count": null,
   "id": "b074dcc3",
   "metadata": {},
   "outputs": [],
   "source": [
    "EY = 0\n",
    "for k in range(8):\n",
    "    EY = EY + k * P.loc['All', k]\n",
    "EY"
   ]
  },
  {
   "cell_type": "code",
   "execution_count": null,
   "id": "8c646a5b",
   "metadata": {},
   "outputs": [],
   "source": [
    "pl.style.use('bmh')"
   ]
  },
  {
   "cell_type": "code",
   "execution_count": null,
   "id": "9d53e4f6",
   "metadata": {},
   "outputs": [],
   "source": [
    "pl.plot([0, 8], [0, 8] ,color = 'red', linewidth = 1)\n",
    "pl.plot(EX, EY, 'o', color = 'black', markersize = 10)\n",
    "pl.xticks(range(10))\n",
    "pl.yticks(range(10))\n",
    "for i in range(8):\n",
    "    for j in range(9):\n",
    "        pl.scatter(j, i, marker = 's',\n",
    "                  facecolor = 'chocolate',\n",
    "                  edgecolor = 'black',\n",
    "                  s = 4000 * P.loc[j, i],\n",
    "                  linewidth = 1)\n",
    "\n",
    "for k in range(9):\n",
    "    pl.scatter(k, 9, marker = 's',\n",
    "        facecolor = 'white',\n",
    "        color = 'black',\n",
    "        hatch = '////',\n",
    "        s = 4000 * P.loc[k, 'All'],\n",
    "        linewidth = 2)\n",
    "    \n",
    "for k in range(8):\n",
    "    pl.scatter(9, k, marker = 's',\n",
    "        facecolor = 'white',\n",
    "        color = 'blue',\n",
    "        hatch = '\\\\\\\\\\\\\\\\',\n",
    "        s = 4000 * P.loc['All', k],\n",
    "        linewidth = 2)\n",
    "\n",
    "pl.scatter(9, k, marker = 's',\n",
    "    facecolor = 'white',\n",
    "    color = 'chocolate',\n",
    "    hatch = 'xx',\n",
    "    s = 4000,\n",
    "    linewidth = 2)"
   ]
  },
  {
   "cell_type": "code",
   "execution_count": null,
   "id": "571aad9f",
   "metadata": {},
   "outputs": [],
   "source": []
  },
  {
   "cell_type": "code",
   "execution_count": null,
   "id": "2e32ed71",
   "metadata": {},
   "outputs": [],
   "source": []
  },
  {
   "cell_type": "code",
   "execution_count": null,
   "id": "0defd473",
   "metadata": {},
   "outputs": [],
   "source": []
  },
  {
   "cell_type": "code",
   "execution_count": null,
   "id": "4afb0395",
   "metadata": {},
   "outputs": [],
   "source": []
  },
  {
   "cell_type": "code",
   "execution_count": null,
   "id": "3c39ea13",
   "metadata": {},
   "outputs": [],
   "source": []
  },
  {
   "cell_type": "code",
   "execution_count": null,
   "id": "65ba1ab9",
   "metadata": {},
   "outputs": [],
   "source": []
  },
  {
   "cell_type": "code",
   "execution_count": null,
   "id": "ee03935f",
   "metadata": {},
   "outputs": [],
   "source": []
  },
  {
   "cell_type": "code",
   "execution_count": null,
   "id": "a5d1c5db",
   "metadata": {},
   "outputs": [],
   "source": []
  },
  {
   "cell_type": "code",
   "execution_count": null,
   "id": "f739d653",
   "metadata": {},
   "outputs": [],
   "source": []
  },
  {
   "cell_type": "code",
   "execution_count": null,
   "id": "bcc1b924",
   "metadata": {},
   "outputs": [],
   "source": []
  },
  {
   "cell_type": "code",
   "execution_count": null,
   "id": "c3931294",
   "metadata": {},
   "outputs": [],
   "source": []
  },
  {
   "cell_type": "code",
   "execution_count": null,
   "id": "7c4c97a0",
   "metadata": {},
   "outputs": [],
   "source": []
  },
  {
   "cell_type": "code",
   "execution_count": null,
   "id": "2651b527",
   "metadata": {},
   "outputs": [],
   "source": []
  }
 ],
 "metadata": {
  "kernelspec": {
   "display_name": "Python 3 (ipykernel)",
   "language": "python",
   "name": "python3"
  },
  "language_info": {
   "codemirror_mode": {
    "name": "ipython",
    "version": 3
   },
   "file_extension": ".py",
   "mimetype": "text/x-python",
   "name": "python",
   "nbconvert_exporter": "python",
   "pygments_lexer": "ipython3",
   "version": "3.11.0"
  },
  "vscode": {
   "interpreter": {
    "hash": "c42d99d755d00efaf066b964ceed011a4027ae5af520c8ef8190b9acee3a6094"
   }
  }
 },
 "nbformat": 4,
 "nbformat_minor": 5
}
