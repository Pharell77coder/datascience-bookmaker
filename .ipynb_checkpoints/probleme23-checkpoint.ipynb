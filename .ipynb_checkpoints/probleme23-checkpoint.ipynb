{
 "cells": [
  {
   "cell_type": "code",
   "execution_count": 1,
   "id": "0a02b8c5-a34f-4ff1-9fdd-232eae93bca5",
   "metadata": {},
   "outputs": [
    {
     "data": {
      "text/html": [
       "<div>\n",
       "<style scoped>\n",
       "    .dataframe tbody tr th:only-of-type {\n",
       "        vertical-align: middle;\n",
       "    }\n",
       "\n",
       "    .dataframe tbody tr th {\n",
       "        vertical-align: top;\n",
       "    }\n",
       "\n",
       "    .dataframe thead th {\n",
       "        text-align: right;\n",
       "    }\n",
       "</style>\n",
       "<table border=\"1\" class=\"dataframe\">\n",
       "  <thead>\n",
       "    <tr style=\"text-align: right;\">\n",
       "      <th></th>\n",
       "      <th>Date</th>\n",
       "      <th>DOM</th>\n",
       "      <th>EXT</th>\n",
       "      <th>BDOM</th>\n",
       "      <th>BEXT</th>\n",
       "    </tr>\n",
       "  </thead>\n",
       "  <tbody>\n",
       "    <tr>\n",
       "      <th>0</th>\n",
       "      <td>10/08/2018</td>\n",
       "      <td>Marseille</td>\n",
       "      <td>Toulouse</td>\n",
       "      <td>4</td>\n",
       "      <td>0</td>\n",
       "    </tr>\n",
       "    <tr>\n",
       "      <th>1</th>\n",
       "      <td>11/08/2018</td>\n",
       "      <td>Angers</td>\n",
       "      <td>Nimes</td>\n",
       "      <td>3</td>\n",
       "      <td>4</td>\n",
       "    </tr>\n",
       "    <tr>\n",
       "      <th>2</th>\n",
       "      <td>11/08/2018</td>\n",
       "      <td>Lille</td>\n",
       "      <td>Rennes</td>\n",
       "      <td>3</td>\n",
       "      <td>1</td>\n",
       "    </tr>\n",
       "    <tr>\n",
       "      <th>3</th>\n",
       "      <td>11/08/2018</td>\n",
       "      <td>Montpellier</td>\n",
       "      <td>Dijon</td>\n",
       "      <td>1</td>\n",
       "      <td>2</td>\n",
       "    </tr>\n",
       "    <tr>\n",
       "      <th>4</th>\n",
       "      <td>11/08/2018</td>\n",
       "      <td>Nantes</td>\n",
       "      <td>Monaco</td>\n",
       "      <td>1</td>\n",
       "      <td>3</td>\n",
       "    </tr>\n",
       "  </tbody>\n",
       "</table>\n",
       "</div>"
      ],
      "text/plain": [
       "         Date          DOM       EXT  BDOM  BEXT\n",
       "0  10/08/2018    Marseille  Toulouse     4     0\n",
       "1  11/08/2018       Angers     Nimes     3     4\n",
       "2  11/08/2018        Lille    Rennes     3     1\n",
       "3  11/08/2018  Montpellier     Dijon     1     2\n",
       "4  11/08/2018       Nantes    Monaco     1     3"
      ]
     },
     "execution_count": 1,
     "metadata": {},
     "output_type": "execute_result"
    }
   ],
   "source": [
    "#import pylab as pl\n",
    "import matplotlib.pyplot as pl\n",
    "import pandas as pa\n",
    "\n",
    "T = pa.read_csv('season-1819.csv')\n",
    "\n",
    "col = ['Date', 'HomeTeam', 'AwayTeam', 'FTHG', 'FTAG']\n",
    "T = T[col]\n",
    "\n",
    "T.rename(columns = {'HomeTeam' : 'DOM', 'AwayTeam' : 'EXT', 'FTHG' : 'BDOM', 'FTAG' : 'BEXT'}, inplace = True )\n",
    "\n",
    "T.head()"
   ]
  },
  {
   "cell_type": "code",
   "execution_count": 2,
   "id": "b11395e0-f821-48e5-aaef-0965c379e5d1",
   "metadata": {},
   "outputs": [
    {
     "data": {
      "text/plain": [
       "380"
      ]
     },
     "execution_count": 2,
     "metadata": {},
     "output_type": "execute_result"
    }
   ],
   "source": [
    "len(T)"
   ]
  },
  {
   "cell_type": "code",
   "execution_count": 3,
   "id": "7b19f8a6-ec93-4a75-aad5-64caa9f7da6a",
   "metadata": {},
   "outputs": [
    {
     "data": {
      "text/plain": [
       "0     88\n",
       "1    127\n",
       "2     99\n",
       "3     43\n",
       "4     14\n",
       "5      8\n",
       "9      1\n",
       "Name: BDOM, dtype: int64"
      ]
     },
     "execution_count": 3,
     "metadata": {},
     "output_type": "execute_result"
    }
   ],
   "source": [
    "M = T['BDOM'].value_counts().sort_index()\n",
    "M"
   ]
  },
  {
   "cell_type": "code",
   "execution_count": 4,
   "id": "6daadfa7-da5d-465c-8842-409af3f4568f",
   "metadata": {},
   "outputs": [
    {
     "data": {
      "text/plain": [
       "([<matplotlib.axis.XTick at 0x17ecc955b50>,\n",
       "  <matplotlib.axis.XTick at 0x17eca9e0910>,\n",
       "  <matplotlib.axis.XTick at 0x17ecb06ac50>,\n",
       "  <matplotlib.axis.XTick at 0x17ecc9ab990>,\n",
       "  <matplotlib.axis.XTick at 0x17ecc9b5710>,\n",
       "  <matplotlib.axis.XTick at 0x17ecc9b7a50>,\n",
       "  <matplotlib.axis.XTick at 0x17ecc9b97d0>,\n",
       "  <matplotlib.axis.XTick at 0x17ecc9bc690>,\n",
       "  <matplotlib.axis.XTick at 0x17ecc9beb50>,\n",
       "  <matplotlib.axis.XTick at 0x17ecc8e0210>],\n",
       " [Text(0, 0, '0'),\n",
       "  Text(1, 0, '1'),\n",
       "  Text(2, 0, '2'),\n",
       "  Text(3, 0, '3'),\n",
       "  Text(4, 0, '4'),\n",
       "  Text(5, 0, '5'),\n",
       "  Text(6, 0, '9'),\n",
       "  Text(7, 0, ''),\n",
       "  Text(8, 0, ''),\n",
       "  Text(9, 0, '')])"
      ]
     },
     "execution_count": 4,
     "metadata": {},
     "output_type": "execute_result"
    },
    {
     "data": {
      "image/png": "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\n",
      "text/plain": [
       "<Figure size 640x480 with 1 Axes>"
      ]
     },
     "metadata": {},
     "output_type": "display_data"
    }
   ],
   "source": [
    "M.plot.bar(color = 'black')\n",
    "pl.xlabel('Buts par match')\n",
    "pl.xticks(range(10), rotation = 0)"
   ]
  },
  {
   "cell_type": "code",
   "execution_count": 5,
   "id": "53fbcae0-d7b2-4b5c-a5f1-17ace7c6f39a",
   "metadata": {},
   "outputs": [
    {
     "name": "stderr",
     "output_type": "stream",
     "text": [
      "C:\\Users\\ACER\\AppData\\Local\\Temp\\ipykernel_6924\\1430832800.py:1: FutureWarning: The default value of numeric_only in DataFrame.mean is deprecated. In a future version, it will default to False. In addition, specifying 'numeric_only=None' is deprecated. Select only valid columns or specify the value of numeric_only to silence this warning.\n",
      "  m = T.mean()\n"
     ]
    },
    {
     "data": {
      "text/plain": [
       "BDOM    1.471053\n",
       "BEXT    1.086842\n",
       "dtype: float64"
      ]
     },
     "execution_count": 5,
     "metadata": {},
     "output_type": "execute_result"
    }
   ],
   "source": [
    "m = T.mean()\n",
    "m"
   ]
  },
  {
   "cell_type": "code",
   "execution_count": 6,
   "id": "07e4d654-a421-4347-9440-06879c6e48af",
   "metadata": {},
   "outputs": [
    {
     "data": {
      "text/plain": [
       "1.4710526315789474"
      ]
     },
     "execution_count": 6,
     "metadata": {},
     "output_type": "execute_result"
    }
   ],
   "source": [
    "m['BDOM']"
   ]
  },
  {
   "cell_type": "code",
   "execution_count": 7,
   "id": "1fe436c2-8ba6-40eb-a86c-d6f902aea14b",
   "metadata": {},
   "outputs": [
    {
     "data": {
      "text/plain": [
       "1.0868421052631578"
      ]
     },
     "execution_count": 7,
     "metadata": {},
     "output_type": "execute_result"
    }
   ],
   "source": [
    "m['BEXT']"
   ]
  },
  {
   "cell_type": "code",
   "execution_count": 8,
   "id": "55514805-e0b4-4491-8dc2-531c52dd3bac",
   "metadata": {},
   "outputs": [
    {
     "data": {
      "text/plain": [
       "[85.16044125864526,\n",
       " 129.50915300533373,\n",
       " 96.2882270515444,\n",
       " 46.64127750514823,\n",
       " 16.550449085089646,\n",
       " 4.586418506513136,\n",
       " 1.0333143683940296]"
      ]
     },
     "execution_count": 8,
     "metadata": {},
     "output_type": "execute_result"
    }
   ],
   "source": [
    "from scipy.stats import binom\n",
    "\n",
    "X = binom(45, m['BDOM']/45)\n",
    "E = [380 * X.pmf(k) for k in range(7)]\n",
    "E"
   ]
  },
  {
   "cell_type": "code",
   "execution_count": 9,
   "id": "7f7fe9e7-9417-4dbc-a942-422072bc1268",
   "metadata": {},
   "outputs": [
    {
     "data": {
      "text/plain": [
       "<matplotlib.legend.Legend at 0x17ed655b290>"
      ]
     },
     "execution_count": 9,
     "metadata": {},
     "output_type": "execute_result"
    },
    {
     "data": {
      "image/png": "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\n",
      "text/plain": [
       "<Figure size 640x480 with 1 Axes>"
      ]
     },
     "metadata": {},
     "output_type": "display_data"
    }
   ],
   "source": [
    "M.plot.bar(color = 'black')\n",
    "pl.bar(range(7), E, color = 'red', alpha = 0.5, label = 'Théorie')\n",
    "pl.xlabel('Buts par match')\n",
    "pl.xticks(range(10), rotation = 0)\n",
    "pl.legend(labels = ['Saison 2018/2019', 'Théorie'])"
   ]
  },
  {
   "cell_type": "code",
   "execution_count": 10,
   "id": "c705c6cc-0433-4dcd-b552-8758482106a4",
   "metadata": {},
   "outputs": [
    {
     "name": "stderr",
     "output_type": "stream",
     "text": [
      "C:\\Users\\ACER\\AppData\\Local\\Temp\\ipykernel_6924\\2640204658.py:1: FutureWarning: The default value of numeric_only in DataFrame.mean is deprecated. In a future version, it will default to False. In addition, specifying 'numeric_only=None' is deprecated. Select only valid columns or specify the value of numeric_only to silence this warning.\n",
      "  TD = T.query('DOM == \"Marseille\"').mean()\n"
     ]
    },
    {
     "data": {
      "text/plain": [
       "BDOM    1.631579\n",
       "BEXT    0.894737\n",
       "dtype: float64"
      ]
     },
     "execution_count": 10,
     "metadata": {},
     "output_type": "execute_result"
    }
   ],
   "source": [
    "TD = T.query('DOM == \"Marseille\"').mean()\n",
    "TD"
   ]
  },
  {
   "cell_type": "code",
   "execution_count": 11,
   "id": "f6b93ce1-d9d7-405b-94ba-6a3bf928677f",
   "metadata": {},
   "outputs": [
    {
     "data": {
      "text/plain": [
       "1.10912343470483"
      ]
     },
     "execution_count": 11,
     "metadata": {},
     "output_type": "execute_result"
    }
   ],
   "source": [
    "TD['BDOM'] / m['BDOM']"
   ]
  },
  {
   "cell_type": "code",
   "execution_count": 12,
   "id": "d88ab286-1029-42b6-b55f-838cae2315f4",
   "metadata": {},
   "outputs": [
    {
     "data": {
      "text/plain": [
       "0.8232445520581114"
      ]
     },
     "execution_count": 12,
     "metadata": {},
     "output_type": "execute_result"
    }
   ],
   "source": [
    "TD['BEXT'] / m['BEXT']"
   ]
  },
  {
   "cell_type": "code",
   "execution_count": 13,
   "id": "60ad6791-23c8-4906-a23a-b2f860c26667",
   "metadata": {},
   "outputs": [
    {
     "name": "stderr",
     "output_type": "stream",
     "text": [
      "C:\\Users\\ACER\\AppData\\Local\\Temp\\ipykernel_6924\\3717343057.py:1: FutureWarning: The default value of numeric_only in DataFrame.mean is deprecated. In a future version, it will default to False. In addition, specifying 'numeric_only=None' is deprecated. Select only valid columns or specify the value of numeric_only to silence this warning.\n",
      "  TE = T.query('EXT == \"Toulouse\"').mean()\n"
     ]
    },
    {
     "data": {
      "text/plain": [
       "BDOM    1.631579\n",
       "BEXT    0.789474\n",
       "dtype: float64"
      ]
     },
     "execution_count": 13,
     "metadata": {},
     "output_type": "execute_result"
    }
   ],
   "source": [
    "TE = T.query('EXT == \"Toulouse\"').mean()\n",
    "TE"
   ]
  },
  {
   "cell_type": "code",
   "execution_count": 14,
   "id": "890cb6ad-000d-454b-9d70-2536f45754da",
   "metadata": {},
   "outputs": [
    {
     "data": {
      "text/plain": [
       "1.10912343470483"
      ]
     },
     "execution_count": 14,
     "metadata": {},
     "output_type": "execute_result"
    }
   ],
   "source": [
    "TE['BDOM'] / m['BDOM']"
   ]
  },
  {
   "cell_type": "code",
   "execution_count": 15,
   "id": "8a12167a-4d33-4471-b7cb-9832549338de",
   "metadata": {},
   "outputs": [
    {
     "data": {
      "text/plain": [
       "0.7263922518159807"
      ]
     },
     "execution_count": 15,
     "metadata": {},
     "output_type": "execute_result"
    }
   ],
   "source": [
    "TE['BEXT'] / m['BEXT']"
   ]
  },
  {
   "cell_type": "code",
   "execution_count": 16,
   "id": "3e177866-0291-4396-8b1a-4c032fbfd281",
   "metadata": {},
   "outputs": [
    {
     "data": {
      "text/plain": [
       "1.809622446097354"
      ]
     },
     "execution_count": 16,
     "metadata": {},
     "output_type": "execute_result"
    }
   ],
   "source": [
    "(TD['BDOM'] / m['BDOM']) * (TE['BDOM'] / m['BDOM']) * m['BDOM']"
   ]
  },
  {
   "cell_type": "code",
   "execution_count": 17,
   "id": "4c06c1d8-d265-4f49-8c68-7391ea91f2c4",
   "metadata": {},
   "outputs": [
    {
     "data": {
      "text/plain": [
       "0.6499299095195616"
      ]
     },
     "execution_count": 17,
     "metadata": {},
     "output_type": "execute_result"
    }
   ],
   "source": [
    "(TD['BEXT'] / m['BEXT']) * (TE['BEXT'] / m['BEXT']) * m['BEXT']"
   ]
  },
  {
   "cell_type": "code",
   "execution_count": 18,
   "id": "4798c49e-7d17-435d-9915-6ac53b17f5de",
   "metadata": {},
   "outputs": [],
   "source": [
    "def Esp(e1, e2):\n",
    "    TD = T.query('DOM == @e1').mean()\n",
    "    TE = T.query('EXT == @e2').mean()\n",
    "    EX = TD['BDOM'] * TE['BDOM'] / m['BDOM']\n",
    "    EY = TD['BEXT'] * TE['BEXT'] / m['BEXT']\n",
    "    \n",
    "    return EX, EY"
   ]
  },
  {
   "cell_type": "code",
   "execution_count": 19,
   "id": "2cf70d38-2031-4bf0-9bb7-9e329eae92af",
   "metadata": {},
   "outputs": [
    {
     "name": "stderr",
     "output_type": "stream",
     "text": [
      "C:\\Users\\ACER\\AppData\\Local\\Temp\\ipykernel_6924\\2584379806.py:2: FutureWarning: The default value of numeric_only in DataFrame.mean is deprecated. In a future version, it will default to False. In addition, specifying 'numeric_only=None' is deprecated. Select only valid columns or specify the value of numeric_only to silence this warning.\n",
      "  TD = T.query('DOM == @e1').mean()\n",
      "C:\\Users\\ACER\\AppData\\Local\\Temp\\ipykernel_6924\\2584379806.py:3: FutureWarning: The default value of numeric_only in DataFrame.mean is deprecated. In a future version, it will default to False. In addition, specifying 'numeric_only=None' is deprecated. Select only valid columns or specify the value of numeric_only to silence this warning.\n",
      "  TE = T.query('EXT == @e2').mean()\n"
     ]
    },
    {
     "data": {
      "text/plain": [
       "(1.809622446097354, 0.6499299095195616)"
      ]
     },
     "execution_count": 19,
     "metadata": {},
     "output_type": "execute_result"
    }
   ],
   "source": [
    "m1, m2 = Esp('Marseille', 'Toulouse')\n",
    "m1, m2"
   ]
  },
  {
   "cell_type": "code",
   "execution_count": 20,
   "id": "743a8786-fc96-42a5-95ad-5ebaf5dd89b4",
   "metadata": {},
   "outputs": [
    {
     "data": {
      "text/plain": [
       "0.2182054853357182"
      ]
     },
     "execution_count": 20,
     "metadata": {},
     "output_type": "execute_result"
    }
   ],
   "source": [
    "X = binom(45, m1 / 45)\n",
    "Y = binom(45, m2 / 45)\n",
    "s = 0\n",
    "for i in range(7):\n",
    "    s = s + X.pmf(i) * Y.pmf(i)\n",
    "s"
   ]
  },
  {
   "cell_type": "code",
   "execution_count": 21,
   "id": "05e8bf18-6abb-47c2-bee8-72fc00dd17d3",
   "metadata": {},
   "outputs": [
    {
     "name": "stderr",
     "output_type": "stream",
     "text": [
      "C:\\Users\\ACER\\AppData\\Local\\Temp\\ipykernel_6924\\2584379806.py:2: FutureWarning: The default value of numeric_only in DataFrame.mean is deprecated. In a future version, it will default to False. In addition, specifying 'numeric_only=None' is deprecated. Select only valid columns or specify the value of numeric_only to silence this warning.\n",
      "  TD = T.query('DOM == @e1').mean()\n",
      "C:\\Users\\ACER\\AppData\\Local\\Temp\\ipykernel_6924\\2584379806.py:3: FutureWarning: The default value of numeric_only in DataFrame.mean is deprecated. In a future version, it will default to False. In addition, specifying 'numeric_only=None' is deprecated. Select only valid columns or specify the value of numeric_only to silence this warning.\n",
      "  TE = T.query('EXT == @e2').mean()\n",
      "C:\\Users\\ACER\\AppData\\Local\\Temp\\ipykernel_6924\\2584379806.py:2: FutureWarning: The default value of numeric_only in DataFrame.mean is deprecated. In a future version, it will default to False. In addition, specifying 'numeric_only=None' is deprecated. Select only valid columns or specify the value of numeric_only to silence this warning.\n",
      "  TD = T.query('DOM == @e1').mean()\n",
      "C:\\Users\\ACER\\AppData\\Local\\Temp\\ipykernel_6924\\2584379806.py:3: FutureWarning: The default value of numeric_only in DataFrame.mean is deprecated. In a future version, it will default to False. In addition, specifying 'numeric_only=None' is deprecated. Select only valid columns or specify the value of numeric_only to silence this warning.\n",
      "  TE = T.query('EXT == @e2').mean()\n"
     ]
    },
    {
     "data": {
      "text/html": [
       "<div>\n",
       "<style scoped>\n",
       "    .dataframe tbody tr th:only-of-type {\n",
       "        vertical-align: middle;\n",
       "    }\n",
       "\n",
       "    .dataframe tbody tr th {\n",
       "        vertical-align: top;\n",
       "    }\n",
       "\n",
       "    .dataframe thead th {\n",
       "        text-align: right;\n",
       "    }\n",
       "</style>\n",
       "<table border=\"1\" class=\"dataframe\">\n",
       "  <thead>\n",
       "    <tr style=\"text-align: right;\">\n",
       "      <th></th>\n",
       "      <th>Date</th>\n",
       "      <th>DOM</th>\n",
       "      <th>EXT</th>\n",
       "      <th>BDOM</th>\n",
       "      <th>BEXT</th>\n",
       "      <th>EX</th>\n",
       "      <th>EY</th>\n",
       "    </tr>\n",
       "  </thead>\n",
       "  <tbody>\n",
       "    <tr>\n",
       "      <th>0</th>\n",
       "      <td>10/08/2018</td>\n",
       "      <td>Marseille</td>\n",
       "      <td>Toulouse</td>\n",
       "      <td>4</td>\n",
       "      <td>0</td>\n",
       "      <td>1.809622</td>\n",
       "      <td>0.649930</td>\n",
       "    </tr>\n",
       "    <tr>\n",
       "      <th>1</th>\n",
       "      <td>11/08/2018</td>\n",
       "      <td>Angers</td>\n",
       "      <td>Nimes</td>\n",
       "      <td>3</td>\n",
       "      <td>4</td>\n",
       "      <td>1.717352</td>\n",
       "      <td>1.513954</td>\n",
       "    </tr>\n",
       "    <tr>\n",
       "      <th>2</th>\n",
       "      <td>11/08/2018</td>\n",
       "      <td>Lille</td>\n",
       "      <td>Rennes</td>\n",
       "      <td>3</td>\n",
       "      <td>1</td>\n",
       "      <td>2.689012</td>\n",
       "      <td>0.785013</td>\n",
       "    </tr>\n",
       "    <tr>\n",
       "      <th>3</th>\n",
       "      <td>11/08/2018</td>\n",
       "      <td>Montpellier</td>\n",
       "      <td>Dijon</td>\n",
       "      <td>1</td>\n",
       "      <td>2</td>\n",
       "      <td>1.809622</td>\n",
       "      <td>0.662674</td>\n",
       "    </tr>\n",
       "    <tr>\n",
       "      <th>4</th>\n",
       "      <td>11/08/2018</td>\n",
       "      <td>Nantes</td>\n",
       "      <td>Monaco</td>\n",
       "      <td>1</td>\n",
       "      <td>3</td>\n",
       "      <td>1.845401</td>\n",
       "      <td>1.162228</td>\n",
       "    </tr>\n",
       "  </tbody>\n",
       "</table>\n",
       "</div>"
      ],
      "text/plain": [
       "         Date          DOM       EXT  BDOM  BEXT        EX        EY\n",
       "0  10/08/2018    Marseille  Toulouse     4     0  1.809622  0.649930\n",
       "1  11/08/2018       Angers     Nimes     3     4  1.717352  1.513954\n",
       "2  11/08/2018        Lille    Rennes     3     1  2.689012  0.785013\n",
       "3  11/08/2018  Montpellier     Dijon     1     2  1.809622  0.662674\n",
       "4  11/08/2018       Nantes    Monaco     1     3  1.845401  1.162228"
      ]
     },
     "execution_count": 21,
     "metadata": {},
     "output_type": "execute_result"
    }
   ],
   "source": [
    "for match in range(380):\n",
    "    e1 = T.loc[match, 'DOM']\n",
    "    e2 = T.loc[match, 'EXT']\n",
    "    T.loc[match, 'EX'], T.loc[match, 'EY'] = Esp(e1, e2)\n",
    "T.head()"
   ]
  },
  {
   "cell_type": "code",
   "execution_count": 22,
   "id": "41f4b110-9d08-4a67-8140-3f462c08f20a",
   "metadata": {},
   "outputs": [
    {
     "data": {
      "text/plain": [
       "{'Lille': 0,\n",
       " 'Dijon': 0,\n",
       " 'Toulouse': 0,\n",
       " 'Paris SG': 0,\n",
       " 'Nimes': 0,\n",
       " 'Angers': 0,\n",
       " 'Guingamp': 0,\n",
       " 'Monaco': 0,\n",
       " 'Bordeaux': 0,\n",
       " 'Nantes': 0,\n",
       " 'Amiens': 0,\n",
       " 'Nice': 0,\n",
       " 'St Etienne': 0,\n",
       " 'Strasbourg': 0,\n",
       " 'Montpellier': 0,\n",
       " 'Lyon': 0,\n",
       " 'Reims': 0,\n",
       " 'Caen': 0,\n",
       " 'Marseille': 0,\n",
       " 'Rennes': 0}"
      ]
     },
     "execution_count": 22,
     "metadata": {},
     "output_type": "execute_result"
    }
   ],
   "source": [
    "P_Off = {equipe : 0 for equipe in set(T['DOM'])}\n",
    "P_Off"
   ]
  },
  {
   "cell_type": "code",
   "execution_count": 23,
   "id": "8a574c8a-e7ed-45b9-8d0a-f02c103b24fa",
   "metadata": {},
   "outputs": [
    {
     "data": {
      "text/plain": [
       "{'Lille': 75,\n",
       " 'Dijon': 34,\n",
       " 'Toulouse': 38,\n",
       " 'Paris SG': 91,\n",
       " 'Nimes': 53,\n",
       " 'Angers': 46,\n",
       " 'Guingamp': 27,\n",
       " 'Monaco': 36,\n",
       " 'Bordeaux': 41,\n",
       " 'Nantes': 48,\n",
       " 'Amiens': 38,\n",
       " 'Nice': 56,\n",
       " 'St Etienne': 66,\n",
       " 'Strasbourg': 49,\n",
       " 'Montpellier': 59,\n",
       " 'Lyon': 72,\n",
       " 'Reims': 55,\n",
       " 'Caen': 33,\n",
       " 'Marseille': 61,\n",
       " 'Rennes': 52}"
      ]
     },
     "execution_count": 23,
     "metadata": {},
     "output_type": "execute_result"
    }
   ],
   "source": [
    "for e1, e2, x, y in zip(T['DOM'], T['EXT'], T['BDOM'], T['BEXT']):\n",
    "    if x > y:\n",
    "        P_Off[e1] = P_Off[e1] + 3\n",
    "    elif x == y:\n",
    "        P_Off[e1] = P_Off[e1] + 1\n",
    "        P_Off[e2] = P_Off[e2] + 1\n",
    "    else: \n",
    "        P_Off[e2] = P_Off[e2] + 3\n",
    "P_Off"
   ]
  },
  {
   "cell_type": "code",
   "execution_count": 24,
   "id": "e1d19812-af8e-4eea-b44d-2f01d2086ef3",
   "metadata": {},
   "outputs": [],
   "source": [
    "from random import *\n",
    "from math import floor\n",
    "\n",
    "def nb_buts(EX):\n",
    "    X = 0\n",
    "    for k in range(45):\n",
    "        X = X + floor(random() + EX/45)\n",
    "    return X"
   ]
  },
  {
   "cell_type": "code",
   "execution_count": 25,
   "id": "6d13a129-a4bd-4ceb-8b14-c2e88f42c4e7",
   "metadata": {},
   "outputs": [],
   "source": [
    "def simulation(n):\n",
    "    P = {team : 0 for team in set(T['DOM'])}\n",
    "    for k in range(n):\n",
    "        for e1, e2, EX, EY in zip(T['DOM'], T['EXT'], T['EX'], T['EY']):\n",
    "            x = nb_buts(EX)\n",
    "            y = nb_buts(EY)\n",
    "            if x > y :\n",
    "                P[e1] = P[e1] + 3\n",
    "            elif x == y:\n",
    "                P[e1] = P[e1] + 1\n",
    "                P[e2] = P[e2] + 1\n",
    "            else :\n",
    "                P[e2] = P[e2] + 3       \n",
    "    return {equipe : P[equipe]/n for equipe in P }"
   ]
  },
  {
   "cell_type": "code",
   "execution_count": 49,
   "id": "f1f3ff5a-1339-4884-80a7-13c3ef4bfab1",
   "metadata": {},
   "outputs": [
    {
     "ename": "KeyError",
     "evalue": "'EX'",
     "output_type": "error",
     "traceback": [
      "\u001b[1;31m---------------------------------------------------------------------------\u001b[0m",
      "\u001b[1;31mKeyError\u001b[0m                                  Traceback (most recent call last)",
      "File \u001b[1;32m~\\AppData\\Local\\Programs\\Python\\Python311\\Lib\\site-packages\\pandas\\core\\indexes\\base.py:3803\u001b[0m, in \u001b[0;36mIndex.get_loc\u001b[1;34m(self, key, method, tolerance)\u001b[0m\n\u001b[0;32m   3802\u001b[0m \u001b[38;5;28;01mtry\u001b[39;00m:\n\u001b[1;32m-> 3803\u001b[0m     \u001b[38;5;28;01mreturn\u001b[39;00m \u001b[38;5;28;43mself\u001b[39;49m\u001b[38;5;241;43m.\u001b[39;49m\u001b[43m_engine\u001b[49m\u001b[38;5;241;43m.\u001b[39;49m\u001b[43mget_loc\u001b[49m\u001b[43m(\u001b[49m\u001b[43mcasted_key\u001b[49m\u001b[43m)\u001b[49m\n\u001b[0;32m   3804\u001b[0m \u001b[38;5;28;01mexcept\u001b[39;00m \u001b[38;5;167;01mKeyError\u001b[39;00m \u001b[38;5;28;01mas\u001b[39;00m err:\n",
      "File \u001b[1;32m~\\AppData\\Local\\Programs\\Python\\Python311\\Lib\\site-packages\\pandas\\_libs\\index.pyx:138\u001b[0m, in \u001b[0;36mpandas._libs.index.IndexEngine.get_loc\u001b[1;34m()\u001b[0m\n",
      "File \u001b[1;32m~\\AppData\\Local\\Programs\\Python\\Python311\\Lib\\site-packages\\pandas\\_libs\\index.pyx:165\u001b[0m, in \u001b[0;36mpandas._libs.index.IndexEngine.get_loc\u001b[1;34m()\u001b[0m\n",
      "File \u001b[1;32mpandas\\_libs\\hashtable_class_helper.pxi:5745\u001b[0m, in \u001b[0;36mpandas._libs.hashtable.PyObjectHashTable.get_item\u001b[1;34m()\u001b[0m\n",
      "File \u001b[1;32mpandas\\_libs\\hashtable_class_helper.pxi:5753\u001b[0m, in \u001b[0;36mpandas._libs.hashtable.PyObjectHashTable.get_item\u001b[1;34m()\u001b[0m\n",
      "\u001b[1;31mKeyError\u001b[0m: 'EX'",
      "\nThe above exception was the direct cause of the following exception:\n",
      "\u001b[1;31mKeyError\u001b[0m                                  Traceback (most recent call last)",
      "Cell \u001b[1;32mIn[49], line 1\u001b[0m\n\u001b[1;32m----> 1\u001b[0m P_Sim \u001b[38;5;241m=\u001b[39m \u001b[43msimulation\u001b[49m\u001b[43m(\u001b[49m\u001b[38;5;241;43m20000\u001b[39;49m\u001b[43m)\u001b[49m\n\u001b[0;32m      2\u001b[0m P_Sim\n",
      "Cell \u001b[1;32mIn[25], line 4\u001b[0m, in \u001b[0;36msimulation\u001b[1;34m(n)\u001b[0m\n\u001b[0;32m      2\u001b[0m P \u001b[38;5;241m=\u001b[39m {team : \u001b[38;5;241m0\u001b[39m \u001b[38;5;28;01mfor\u001b[39;00m team \u001b[38;5;129;01min\u001b[39;00m \u001b[38;5;28mset\u001b[39m(T[\u001b[38;5;124m'\u001b[39m\u001b[38;5;124mDOM\u001b[39m\u001b[38;5;124m'\u001b[39m])}\n\u001b[0;32m      3\u001b[0m \u001b[38;5;28;01mfor\u001b[39;00m k \u001b[38;5;129;01min\u001b[39;00m \u001b[38;5;28mrange\u001b[39m(n):\n\u001b[1;32m----> 4\u001b[0m     \u001b[38;5;28;01mfor\u001b[39;00m e1, e2, EX, EY \u001b[38;5;129;01min\u001b[39;00m \u001b[38;5;28mzip\u001b[39m(T[\u001b[38;5;124m'\u001b[39m\u001b[38;5;124mDOM\u001b[39m\u001b[38;5;124m'\u001b[39m], T[\u001b[38;5;124m'\u001b[39m\u001b[38;5;124mEXT\u001b[39m\u001b[38;5;124m'\u001b[39m], \u001b[43mT\u001b[49m\u001b[43m[\u001b[49m\u001b[38;5;124;43m'\u001b[39;49m\u001b[38;5;124;43mEX\u001b[39;49m\u001b[38;5;124;43m'\u001b[39;49m\u001b[43m]\u001b[49m, T[\u001b[38;5;124m'\u001b[39m\u001b[38;5;124mEY\u001b[39m\u001b[38;5;124m'\u001b[39m]):\n\u001b[0;32m      5\u001b[0m         x \u001b[38;5;241m=\u001b[39m nb_buts(EX)\n\u001b[0;32m      6\u001b[0m         y \u001b[38;5;241m=\u001b[39m nb_buts(EY)\n",
      "File \u001b[1;32m~\\AppData\\Local\\Programs\\Python\\Python311\\Lib\\site-packages\\pandas\\core\\frame.py:3805\u001b[0m, in \u001b[0;36mDataFrame.__getitem__\u001b[1;34m(self, key)\u001b[0m\n\u001b[0;32m   3803\u001b[0m \u001b[38;5;28;01mif\u001b[39;00m \u001b[38;5;28mself\u001b[39m\u001b[38;5;241m.\u001b[39mcolumns\u001b[38;5;241m.\u001b[39mnlevels \u001b[38;5;241m>\u001b[39m \u001b[38;5;241m1\u001b[39m:\n\u001b[0;32m   3804\u001b[0m     \u001b[38;5;28;01mreturn\u001b[39;00m \u001b[38;5;28mself\u001b[39m\u001b[38;5;241m.\u001b[39m_getitem_multilevel(key)\n\u001b[1;32m-> 3805\u001b[0m indexer \u001b[38;5;241m=\u001b[39m \u001b[38;5;28;43mself\u001b[39;49m\u001b[38;5;241;43m.\u001b[39;49m\u001b[43mcolumns\u001b[49m\u001b[38;5;241;43m.\u001b[39;49m\u001b[43mget_loc\u001b[49m\u001b[43m(\u001b[49m\u001b[43mkey\u001b[49m\u001b[43m)\u001b[49m\n\u001b[0;32m   3806\u001b[0m \u001b[38;5;28;01mif\u001b[39;00m is_integer(indexer):\n\u001b[0;32m   3807\u001b[0m     indexer \u001b[38;5;241m=\u001b[39m [indexer]\n",
      "File \u001b[1;32m~\\AppData\\Local\\Programs\\Python\\Python311\\Lib\\site-packages\\pandas\\core\\indexes\\base.py:3805\u001b[0m, in \u001b[0;36mIndex.get_loc\u001b[1;34m(self, key, method, tolerance)\u001b[0m\n\u001b[0;32m   3803\u001b[0m     \u001b[38;5;28;01mreturn\u001b[39;00m \u001b[38;5;28mself\u001b[39m\u001b[38;5;241m.\u001b[39m_engine\u001b[38;5;241m.\u001b[39mget_loc(casted_key)\n\u001b[0;32m   3804\u001b[0m \u001b[38;5;28;01mexcept\u001b[39;00m \u001b[38;5;167;01mKeyError\u001b[39;00m \u001b[38;5;28;01mas\u001b[39;00m err:\n\u001b[1;32m-> 3805\u001b[0m     \u001b[38;5;28;01mraise\u001b[39;00m \u001b[38;5;167;01mKeyError\u001b[39;00m(key) \u001b[38;5;28;01mfrom\u001b[39;00m \u001b[38;5;21;01merr\u001b[39;00m\n\u001b[0;32m   3806\u001b[0m \u001b[38;5;28;01mexcept\u001b[39;00m \u001b[38;5;167;01mTypeError\u001b[39;00m:\n\u001b[0;32m   3807\u001b[0m     \u001b[38;5;66;03m# If we have a listlike key, _check_indexing_error will raise\u001b[39;00m\n\u001b[0;32m   3808\u001b[0m     \u001b[38;5;66;03m#  InvalidIndexError. Otherwise we fall through and re-raise\u001b[39;00m\n\u001b[0;32m   3809\u001b[0m     \u001b[38;5;66;03m#  the TypeError.\u001b[39;00m\n\u001b[0;32m   3810\u001b[0m     \u001b[38;5;28mself\u001b[39m\u001b[38;5;241m.\u001b[39m_check_indexing_error(key)\n",
      "\u001b[1;31mKeyError\u001b[0m: 'EX'"
     ]
    }
   ],
   "source": [
    "P_Sim = simulation(20000)\n",
    "P_Sim"
   ]
  },
  {
   "cell_type": "code",
   "execution_count": 27,
   "id": "62c78c01-f913-4752-839d-0be2e5ec569e",
   "metadata": {},
   "outputs": [
    {
     "data": {
      "text/html": [
       "<div>\n",
       "<style scoped>\n",
       "    .dataframe tbody tr th:only-of-type {\n",
       "        vertical-align: middle;\n",
       "    }\n",
       "\n",
       "    .dataframe tbody tr th {\n",
       "        vertical-align: top;\n",
       "    }\n",
       "\n",
       "    .dataframe thead th {\n",
       "        text-align: right;\n",
       "    }\n",
       "</style>\n",
       "<table border=\"1\" class=\"dataframe\">\n",
       "  <thead>\n",
       "    <tr style=\"text-align: right;\">\n",
       "      <th></th>\n",
       "      <th>Equipe</th>\n",
       "      <th>Points_Off</th>\n",
       "      <th>Points_Sim</th>\n",
       "      <th>Rangs_Off</th>\n",
       "      <th>Rangs_Sim</th>\n",
       "    </tr>\n",
       "  </thead>\n",
       "  <tbody>\n",
       "    <tr>\n",
       "      <th>3</th>\n",
       "      <td>Paris SG</td>\n",
       "      <td>91.0</td>\n",
       "      <td>93.0</td>\n",
       "      <td>1</td>\n",
       "      <td>1</td>\n",
       "    </tr>\n",
       "    <tr>\n",
       "      <th>0</th>\n",
       "      <td>Lille</td>\n",
       "      <td>75.0</td>\n",
       "      <td>65.0</td>\n",
       "      <td>2</td>\n",
       "      <td>3</td>\n",
       "    </tr>\n",
       "    <tr>\n",
       "      <th>15</th>\n",
       "      <td>Lyon</td>\n",
       "      <td>72.0</td>\n",
       "      <td>64.0</td>\n",
       "      <td>3</td>\n",
       "      <td>5</td>\n",
       "    </tr>\n",
       "    <tr>\n",
       "      <th>12</th>\n",
       "      <td>St Etienne</td>\n",
       "      <td>66.0</td>\n",
       "      <td>74.0</td>\n",
       "      <td>4</td>\n",
       "      <td>2</td>\n",
       "    </tr>\n",
       "    <tr>\n",
       "      <th>18</th>\n",
       "      <td>Marseille</td>\n",
       "      <td>61.0</td>\n",
       "      <td>63.0</td>\n",
       "      <td>5</td>\n",
       "      <td>7</td>\n",
       "    </tr>\n",
       "    <tr>\n",
       "      <th>14</th>\n",
       "      <td>Montpellier</td>\n",
       "      <td>59.0</td>\n",
       "      <td>52.0</td>\n",
       "      <td>6</td>\n",
       "      <td>10</td>\n",
       "    </tr>\n",
       "    <tr>\n",
       "      <th>11</th>\n",
       "      <td>Nice</td>\n",
       "      <td>56.0</td>\n",
       "      <td>28.0</td>\n",
       "      <td>7</td>\n",
       "      <td>19</td>\n",
       "    </tr>\n",
       "    <tr>\n",
       "      <th>16</th>\n",
       "      <td>Reims</td>\n",
       "      <td>55.0</td>\n",
       "      <td>50.0</td>\n",
       "      <td>8</td>\n",
       "      <td>11</td>\n",
       "    </tr>\n",
       "    <tr>\n",
       "      <th>4</th>\n",
       "      <td>Nimes</td>\n",
       "      <td>53.0</td>\n",
       "      <td>63.0</td>\n",
       "      <td>9</td>\n",
       "      <td>7</td>\n",
       "    </tr>\n",
       "    <tr>\n",
       "      <th>19</th>\n",
       "      <td>Rennes</td>\n",
       "      <td>52.0</td>\n",
       "      <td>64.0</td>\n",
       "      <td>10</td>\n",
       "      <td>5</td>\n",
       "    </tr>\n",
       "    <tr>\n",
       "      <th>13</th>\n",
       "      <td>Strasbourg</td>\n",
       "      <td>49.0</td>\n",
       "      <td>56.0</td>\n",
       "      <td>11</td>\n",
       "      <td>9</td>\n",
       "    </tr>\n",
       "    <tr>\n",
       "      <th>9</th>\n",
       "      <td>Nantes</td>\n",
       "      <td>48.0</td>\n",
       "      <td>44.0</td>\n",
       "      <td>12</td>\n",
       "      <td>13</td>\n",
       "    </tr>\n",
       "    <tr>\n",
       "      <th>5</th>\n",
       "      <td>Angers</td>\n",
       "      <td>46.0</td>\n",
       "      <td>65.0</td>\n",
       "      <td>13</td>\n",
       "      <td>3</td>\n",
       "    </tr>\n",
       "    <tr>\n",
       "      <th>8</th>\n",
       "      <td>Bordeaux</td>\n",
       "      <td>41.0</td>\n",
       "      <td>40.0</td>\n",
       "      <td>14</td>\n",
       "      <td>15</td>\n",
       "    </tr>\n",
       "    <tr>\n",
       "      <th>2</th>\n",
       "      <td>Toulouse</td>\n",
       "      <td>38.0</td>\n",
       "      <td>37.0</td>\n",
       "      <td>15</td>\n",
       "      <td>16</td>\n",
       "    </tr>\n",
       "    <tr>\n",
       "      <th>10</th>\n",
       "      <td>Amiens</td>\n",
       "      <td>38.0</td>\n",
       "      <td>50.0</td>\n",
       "      <td>15</td>\n",
       "      <td>11</td>\n",
       "    </tr>\n",
       "    <tr>\n",
       "      <th>7</th>\n",
       "      <td>Monaco</td>\n",
       "      <td>36.0</td>\n",
       "      <td>43.0</td>\n",
       "      <td>17</td>\n",
       "      <td>14</td>\n",
       "    </tr>\n",
       "    <tr>\n",
       "      <th>1</th>\n",
       "      <td>Dijon</td>\n",
       "      <td>34.0</td>\n",
       "      <td>27.0</td>\n",
       "      <td>18</td>\n",
       "      <td>20</td>\n",
       "    </tr>\n",
       "    <tr>\n",
       "      <th>17</th>\n",
       "      <td>Caen</td>\n",
       "      <td>33.0</td>\n",
       "      <td>34.0</td>\n",
       "      <td>19</td>\n",
       "      <td>18</td>\n",
       "    </tr>\n",
       "    <tr>\n",
       "      <th>6</th>\n",
       "      <td>Guingamp</td>\n",
       "      <td>27.0</td>\n",
       "      <td>36.0</td>\n",
       "      <td>20</td>\n",
       "      <td>17</td>\n",
       "    </tr>\n",
       "  </tbody>\n",
       "</table>\n",
       "</div>"
      ],
      "text/plain": [
       "         Equipe  Points_Off  Points_Sim  Rangs_Off  Rangs_Sim\n",
       "3      Paris SG        91.0        93.0          1          1\n",
       "0         Lille        75.0        65.0          2          3\n",
       "15         Lyon        72.0        64.0          3          5\n",
       "12   St Etienne        66.0        74.0          4          2\n",
       "18    Marseille        61.0        63.0          5          7\n",
       "14  Montpellier        59.0        52.0          6         10\n",
       "11         Nice        56.0        28.0          7         19\n",
       "16        Reims        55.0        50.0          8         11\n",
       "4         Nimes        53.0        63.0          9          7\n",
       "19       Rennes        52.0        64.0         10          5\n",
       "13   Strasbourg        49.0        56.0         11          9\n",
       "9        Nantes        48.0        44.0         12         13\n",
       "5        Angers        46.0        65.0         13          3\n",
       "8      Bordeaux        41.0        40.0         14         15\n",
       "2      Toulouse        38.0        37.0         15         16\n",
       "10       Amiens        38.0        50.0         15         11\n",
       "7        Monaco        36.0        43.0         17         14\n",
       "1         Dijon        34.0        27.0         18         20\n",
       "17         Caen        33.0        34.0         19         18\n",
       "6      Guingamp        27.0        36.0         20         17"
      ]
     },
     "execution_count": 27,
     "metadata": {},
     "output_type": "execute_result"
    }
   ],
   "source": [
    "M = pa.DataFrame()\n",
    "M['Equipe'] = list(set(T['DOM']))\n",
    "for k in range(20):\n",
    "    equipe = M.loc[k, 'Equipe']\n",
    "    M.loc[k, 'Points_Off'] = P_Off[equipe]\n",
    "    M.loc[k, 'Points_Sim'] = P_Sim[equipe]\n",
    "\n",
    "# création de ka colonne des rangs officiels   \n",
    "M['Rangs_Off'] = M['Points_Off'].rank(ascending = False)\n",
    "M['Rangs_Off'] = M['Rangs_Off'].astype(int)\n",
    "\n",
    "# création de ka colonne des rangs simulés\n",
    "M['Rangs_Sim'] = M['Points_Sim'].rank(ascending = False)\n",
    "M['Rangs_Sim'] = M['Rangs_Sim'].astype(int)\n",
    "\n",
    "#Affichage de T trié selon Points_Off\n",
    "M.sort_values(by = 'Points_Off', ascending = False)"
   ]
  },
  {
   "cell_type": "code",
   "execution_count": 28,
   "id": "935a8bb5-67fc-427d-9694-fea76e627c86",
   "metadata": {},
   "outputs": [
    {
     "data": {
      "text/html": [
       "<div>\n",
       "<style scoped>\n",
       "    .dataframe tbody tr th:only-of-type {\n",
       "        vertical-align: middle;\n",
       "    }\n",
       "\n",
       "    .dataframe tbody tr th {\n",
       "        vertical-align: top;\n",
       "    }\n",
       "\n",
       "    .dataframe thead th {\n",
       "        text-align: right;\n",
       "    }\n",
       "</style>\n",
       "<table border=\"1\" class=\"dataframe\">\n",
       "  <thead>\n",
       "    <tr style=\"text-align: right;\">\n",
       "      <th></th>\n",
       "      <th>Date</th>\n",
       "      <th>DOM</th>\n",
       "      <th>EXT</th>\n",
       "      <th>BDOM</th>\n",
       "      <th>BEXT</th>\n",
       "    </tr>\n",
       "  </thead>\n",
       "  <tbody>\n",
       "    <tr>\n",
       "      <th>0</th>\n",
       "      <td>17/08/13</td>\n",
       "      <td>Arsenal</td>\n",
       "      <td>Aston Villa</td>\n",
       "      <td>1</td>\n",
       "      <td>3</td>\n",
       "    </tr>\n",
       "    <tr>\n",
       "      <th>1</th>\n",
       "      <td>17/08/13</td>\n",
       "      <td>Liverpool</td>\n",
       "      <td>Stoke</td>\n",
       "      <td>1</td>\n",
       "      <td>0</td>\n",
       "    </tr>\n",
       "    <tr>\n",
       "      <th>2</th>\n",
       "      <td>17/08/13</td>\n",
       "      <td>Norwich</td>\n",
       "      <td>Everton</td>\n",
       "      <td>2</td>\n",
       "      <td>2</td>\n",
       "    </tr>\n",
       "    <tr>\n",
       "      <th>3</th>\n",
       "      <td>17/08/13</td>\n",
       "      <td>Sunderland</td>\n",
       "      <td>Fulham</td>\n",
       "      <td>0</td>\n",
       "      <td>1</td>\n",
       "    </tr>\n",
       "    <tr>\n",
       "      <th>4</th>\n",
       "      <td>17/08/13</td>\n",
       "      <td>Swansea</td>\n",
       "      <td>Man United</td>\n",
       "      <td>1</td>\n",
       "      <td>4</td>\n",
       "    </tr>\n",
       "  </tbody>\n",
       "</table>\n",
       "</div>"
      ],
      "text/plain": [
       "       Date         DOM          EXT  BDOM  BEXT\n",
       "0  17/08/13     Arsenal  Aston Villa     1     3\n",
       "1  17/08/13   Liverpool        Stoke     1     0\n",
       "2  17/08/13     Norwich      Everton     2     2\n",
       "3  17/08/13  Sunderland       Fulham     0     1\n",
       "4  17/08/13     Swansea   Man United     1     4"
      ]
     },
     "execution_count": 28,
     "metadata": {},
     "output_type": "execute_result"
    }
   ],
   "source": [
    "import pandas as pa\n",
    "import glob\n",
    "import csv, os\n",
    "\n",
    "path = \"C:/Users/ACER/datascience/premier-league\"\n",
    "files_joined = os.path.join(path, \"season*.csv\")\n",
    "list_files = glob.glob(files_joined)\n",
    "T = pa.concat(map(pa.read_csv, list_files), ignore_index=True)\n",
    "\n",
    "col = ['Date', 'HomeTeam', 'AwayTeam', 'FTHG', 'FTAG']\n",
    "T = T[col]\n",
    "\n",
    "T.rename(columns = {'HomeTeam' : 'DOM', 'AwayTeam' : 'EXT', 'FTHG' : 'BDOM', 'FTAG' : 'BEXT'}, inplace = True )\n",
    "\n",
    "\n",
    "T.head()"
   ]
  },
  {
   "cell_type": "code",
   "execution_count": 29,
   "id": "6247f46e-fbc2-45c3-85d6-e3b6bf9bfdd5",
   "metadata": {},
   "outputs": [
    {
     "data": {
      "text/plain": [
       "2280"
      ]
     },
     "execution_count": 29,
     "metadata": {},
     "output_type": "execute_result"
    }
   ],
   "source": [
    "len(T)"
   ]
  },
  {
   "cell_type": "code",
   "execution_count": 30,
   "id": "4bee3679-fae6-43b0-afb2-f24e9ff421fb",
   "metadata": {},
   "outputs": [
    {
     "data": {
      "text/plain": [
       "171"
      ]
     },
     "execution_count": 30,
     "metadata": {},
     "output_type": "execute_result"
    }
   ],
   "source": [
    "len(T.query('BDOM == 0 and BEXT == 0'))"
   ]
  },
  {
   "cell_type": "code",
   "execution_count": 31,
   "id": "0116ad7a",
   "metadata": {},
   "outputs": [
    {
     "data": {
      "text/plain": [
       "0.075"
      ]
     },
     "execution_count": 31,
     "metadata": {},
     "output_type": "execute_result"
    }
   ],
   "source": [
    "len( T.query('BDOM == 0 and BEXT == 0')) / len(T)"
   ]
  },
  {
   "cell_type": "code",
   "execution_count": 32,
   "id": "f6df44c0",
   "metadata": {},
   "outputs": [
    {
     "data": {
      "text/html": [
       "<div>\n",
       "<style scoped>\n",
       "    .dataframe tbody tr th:only-of-type {\n",
       "        vertical-align: middle;\n",
       "    }\n",
       "\n",
       "    .dataframe tbody tr th {\n",
       "        vertical-align: top;\n",
       "    }\n",
       "\n",
       "    .dataframe thead th {\n",
       "        text-align: right;\n",
       "    }\n",
       "</style>\n",
       "<table border=\"1\" class=\"dataframe\">\n",
       "  <thead>\n",
       "    <tr style=\"text-align: right;\">\n",
       "      <th></th>\n",
       "      <th>Date</th>\n",
       "      <th>DOM</th>\n",
       "      <th>EXT</th>\n",
       "      <th>BDOM</th>\n",
       "      <th>BEXT</th>\n",
       "    </tr>\n",
       "  </thead>\n",
       "  <tbody>\n",
       "    <tr>\n",
       "      <th>2</th>\n",
       "      <td>17/08/13</td>\n",
       "      <td>Norwich</td>\n",
       "      <td>Everton</td>\n",
       "      <td>2</td>\n",
       "      <td>2</td>\n",
       "    </tr>\n",
       "    <tr>\n",
       "      <th>12</th>\n",
       "      <td>24/08/13</td>\n",
       "      <td>Everton</td>\n",
       "      <td>West Brom</td>\n",
       "      <td>0</td>\n",
       "      <td>0</td>\n",
       "    </tr>\n",
       "    <tr>\n",
       "      <th>15</th>\n",
       "      <td>24/08/13</td>\n",
       "      <td>Newcastle</td>\n",
       "      <td>West Ham</td>\n",
       "      <td>0</td>\n",
       "      <td>0</td>\n",
       "    </tr>\n",
       "    <tr>\n",
       "      <th>16</th>\n",
       "      <td>24/08/13</td>\n",
       "      <td>Southampton</td>\n",
       "      <td>Sunderland</td>\n",
       "      <td>1</td>\n",
       "      <td>1</td>\n",
       "    </tr>\n",
       "    <tr>\n",
       "      <th>20</th>\n",
       "      <td>26/08/13</td>\n",
       "      <td>Man United</td>\n",
       "      <td>Chelsea</td>\n",
       "      <td>0</td>\n",
       "      <td>0</td>\n",
       "    </tr>\n",
       "    <tr>\n",
       "      <th>...</th>\n",
       "      <td>...</td>\n",
       "      <td>...</td>\n",
       "      <td>...</td>\n",
       "      <td>...</td>\n",
       "      <td>...</td>\n",
       "    </tr>\n",
       "    <tr>\n",
       "      <th>2266</th>\n",
       "      <td>05/05/2019</td>\n",
       "      <td>Arsenal</td>\n",
       "      <td>Brighton</td>\n",
       "      <td>1</td>\n",
       "      <td>1</td>\n",
       "    </tr>\n",
       "    <tr>\n",
       "      <th>2268</th>\n",
       "      <td>05/05/2019</td>\n",
       "      <td>Huddersfield</td>\n",
       "      <td>Man United</td>\n",
       "      <td>1</td>\n",
       "      <td>1</td>\n",
       "    </tr>\n",
       "    <tr>\n",
       "      <th>2274</th>\n",
       "      <td>12/05/2019</td>\n",
       "      <td>Leicester</td>\n",
       "      <td>Chelsea</td>\n",
       "      <td>0</td>\n",
       "      <td>0</td>\n",
       "    </tr>\n",
       "    <tr>\n",
       "      <th>2277</th>\n",
       "      <td>12/05/2019</td>\n",
       "      <td>Southampton</td>\n",
       "      <td>Huddersfield</td>\n",
       "      <td>1</td>\n",
       "      <td>1</td>\n",
       "    </tr>\n",
       "    <tr>\n",
       "      <th>2278</th>\n",
       "      <td>12/05/2019</td>\n",
       "      <td>Tottenham</td>\n",
       "      <td>Everton</td>\n",
       "      <td>2</td>\n",
       "      <td>2</td>\n",
       "    </tr>\n",
       "  </tbody>\n",
       "</table>\n",
       "<p>532 rows × 5 columns</p>\n",
       "</div>"
      ],
      "text/plain": [
       "            Date           DOM           EXT  BDOM  BEXT\n",
       "2       17/08/13       Norwich       Everton     2     2\n",
       "12      24/08/13       Everton     West Brom     0     0\n",
       "15      24/08/13     Newcastle      West Ham     0     0\n",
       "16      24/08/13   Southampton    Sunderland     1     1\n",
       "20      26/08/13    Man United       Chelsea     0     0\n",
       "...          ...           ...           ...   ...   ...\n",
       "2266  05/05/2019       Arsenal      Brighton     1     1\n",
       "2268  05/05/2019  Huddersfield    Man United     1     1\n",
       "2274  12/05/2019     Leicester       Chelsea     0     0\n",
       "2277  12/05/2019   Southampton  Huddersfield     1     1\n",
       "2278  12/05/2019     Tottenham       Everton     2     2\n",
       "\n",
       "[532 rows x 5 columns]"
      ]
     },
     "execution_count": 32,
     "metadata": {},
     "output_type": "execute_result"
    }
   ],
   "source": [
    "T.query('BDOM == BEXT')"
   ]
  },
  {
   "cell_type": "code",
   "execution_count": 33,
   "id": "c8a397a2",
   "metadata": {},
   "outputs": [
    {
     "data": {
      "text/plain": [
       "0.23333333333333334"
      ]
     },
     "execution_count": 33,
     "metadata": {},
     "output_type": "execute_result"
    }
   ],
   "source": [
    "p = len( T.query('BDOM == BEXT')) / len(T)\n",
    "p"
   ]
  },
  {
   "cell_type": "code",
   "execution_count": 34,
   "id": "e14cb8e3",
   "metadata": {},
   "outputs": [
    {
     "data": {
      "text/html": [
       "<div>\n",
       "<style scoped>\n",
       "    .dataframe tbody tr th:only-of-type {\n",
       "        vertical-align: middle;\n",
       "    }\n",
       "\n",
       "    .dataframe tbody tr th {\n",
       "        vertical-align: top;\n",
       "    }\n",
       "\n",
       "    .dataframe thead th {\n",
       "        text-align: right;\n",
       "    }\n",
       "</style>\n",
       "<table border=\"1\" class=\"dataframe\">\n",
       "  <thead>\n",
       "    <tr style=\"text-align: right;\">\n",
       "      <th></th>\n",
       "      <th>Date</th>\n",
       "      <th>DOM</th>\n",
       "      <th>EXT</th>\n",
       "      <th>BDOM</th>\n",
       "      <th>BEXT</th>\n",
       "    </tr>\n",
       "  </thead>\n",
       "  <tbody>\n",
       "    <tr>\n",
       "      <th>111</th>\n",
       "      <td>23/11/13</td>\n",
       "      <td>Everton</td>\n",
       "      <td>Liverpool</td>\n",
       "      <td>3</td>\n",
       "      <td>3</td>\n",
       "    </tr>\n",
       "    <tr>\n",
       "      <th>221</th>\n",
       "      <td>28/01/14</td>\n",
       "      <td>Liverpool</td>\n",
       "      <td>Everton</td>\n",
       "      <td>4</td>\n",
       "      <td>0</td>\n",
       "    </tr>\n",
       "    <tr>\n",
       "      <th>434</th>\n",
       "      <td>27/09/14</td>\n",
       "      <td>Liverpool</td>\n",
       "      <td>Everton</td>\n",
       "      <td>1</td>\n",
       "      <td>1</td>\n",
       "    </tr>\n",
       "    <tr>\n",
       "      <th>611</th>\n",
       "      <td>07/02/15</td>\n",
       "      <td>Everton</td>\n",
       "      <td>Liverpool</td>\n",
       "      <td>0</td>\n",
       "      <td>0</td>\n",
       "    </tr>\n",
       "    <tr>\n",
       "      <th>838</th>\n",
       "      <td>04/10/15</td>\n",
       "      <td>Everton</td>\n",
       "      <td>Liverpool</td>\n",
       "      <td>1</td>\n",
       "      <td>1</td>\n",
       "    </tr>\n",
       "    <tr>\n",
       "      <th>1095</th>\n",
       "      <td>20/04/16</td>\n",
       "      <td>Liverpool</td>\n",
       "      <td>Everton</td>\n",
       "      <td>4</td>\n",
       "      <td>0</td>\n",
       "    </tr>\n",
       "    <tr>\n",
       "      <th>1309</th>\n",
       "      <td>19/12/16</td>\n",
       "      <td>Everton</td>\n",
       "      <td>Liverpool</td>\n",
       "      <td>0</td>\n",
       "      <td>1</td>\n",
       "    </tr>\n",
       "    <tr>\n",
       "      <th>1427</th>\n",
       "      <td>01/04/17</td>\n",
       "      <td>Liverpool</td>\n",
       "      <td>Everton</td>\n",
       "      <td>3</td>\n",
       "      <td>1</td>\n",
       "    </tr>\n",
       "    <tr>\n",
       "      <th>1677</th>\n",
       "      <td>10/12/17</td>\n",
       "      <td>Liverpool</td>\n",
       "      <td>Everton</td>\n",
       "      <td>1</td>\n",
       "      <td>1</td>\n",
       "    </tr>\n",
       "    <tr>\n",
       "      <th>1836</th>\n",
       "      <td>07/04/18</td>\n",
       "      <td>Everton</td>\n",
       "      <td>Liverpool</td>\n",
       "      <td>0</td>\n",
       "      <td>0</td>\n",
       "    </tr>\n",
       "    <tr>\n",
       "      <th>2039</th>\n",
       "      <td>02/12/2018</td>\n",
       "      <td>Liverpool</td>\n",
       "      <td>Everton</td>\n",
       "      <td>1</td>\n",
       "      <td>0</td>\n",
       "    </tr>\n",
       "    <tr>\n",
       "      <th>2186</th>\n",
       "      <td>03/03/2019</td>\n",
       "      <td>Everton</td>\n",
       "      <td>Liverpool</td>\n",
       "      <td>0</td>\n",
       "      <td>0</td>\n",
       "    </tr>\n",
       "  </tbody>\n",
       "</table>\n",
       "</div>"
      ],
      "text/plain": [
       "            Date        DOM        EXT  BDOM  BEXT\n",
       "111     23/11/13    Everton  Liverpool     3     3\n",
       "221     28/01/14  Liverpool    Everton     4     0\n",
       "434     27/09/14  Liverpool    Everton     1     1\n",
       "611     07/02/15    Everton  Liverpool     0     0\n",
       "838     04/10/15    Everton  Liverpool     1     1\n",
       "1095    20/04/16  Liverpool    Everton     4     0\n",
       "1309    19/12/16    Everton  Liverpool     0     1\n",
       "1427    01/04/17  Liverpool    Everton     3     1\n",
       "1677    10/12/17  Liverpool    Everton     1     1\n",
       "1836    07/04/18    Everton  Liverpool     0     0\n",
       "2039  02/12/2018  Liverpool    Everton     1     0\n",
       "2186  03/03/2019    Everton  Liverpool     0     0"
      ]
     },
     "execution_count": 34,
     "metadata": {},
     "output_type": "execute_result"
    }
   ],
   "source": [
    "S = T.query('DOM in [\"Everton\", \"Liverpool\"] and \\\n",
    "            EXT in [\"Everton\", \"Liverpool\"]')\n",
    "S"
   ]
  },
  {
   "cell_type": "code",
   "execution_count": 35,
   "id": "0f00764e",
   "metadata": {},
   "outputs": [
    {
     "data": {
      "text/plain": [
       "7"
      ]
     },
     "execution_count": 35,
     "metadata": {},
     "output_type": "execute_result"
    }
   ],
   "source": [
    "n = len(S.query('BDOM == BEXT'))\n",
    "n"
   ]
  },
  {
   "cell_type": "code",
   "execution_count": 36,
   "id": "3a460ab9",
   "metadata": {},
   "outputs": [],
   "source": [
    "from scipy.stats import binom"
   ]
  },
  {
   "cell_type": "code",
   "execution_count": 37,
   "id": "5317b1f4",
   "metadata": {},
   "outputs": [
    {
     "data": {
      "text/plain": [
       "0.009624897354670647"
      ]
     },
     "execution_count": 37,
     "metadata": {},
     "output_type": "execute_result"
    }
   ],
   "source": [
    "X = binom(12, p)\n",
    "1 - X.cdf(6)"
   ]
  },
  {
   "cell_type": "code",
   "execution_count": 38,
   "id": "e5d3f731",
   "metadata": {},
   "outputs": [
    {
     "data": {
      "text/html": [
       "<div>\n",
       "<style scoped>\n",
       "    .dataframe tbody tr th:only-of-type {\n",
       "        vertical-align: middle;\n",
       "    }\n",
       "\n",
       "    .dataframe tbody tr th {\n",
       "        vertical-align: top;\n",
       "    }\n",
       "\n",
       "    .dataframe thead th {\n",
       "        text-align: right;\n",
       "    }\n",
       "</style>\n",
       "<table border=\"1\" class=\"dataframe\">\n",
       "  <thead>\n",
       "    <tr style=\"text-align: right;\">\n",
       "      <th></th>\n",
       "      <th>BDOM</th>\n",
       "      <th>BEXT</th>\n",
       "      <th>Date</th>\n",
       "    </tr>\n",
       "  </thead>\n",
       "  <tbody>\n",
       "    <tr>\n",
       "      <th>0</th>\n",
       "      <td>0</td>\n",
       "      <td>0</td>\n",
       "      <td>171</td>\n",
       "    </tr>\n",
       "    <tr>\n",
       "      <th>1</th>\n",
       "      <td>0</td>\n",
       "      <td>1</td>\n",
       "      <td>173</td>\n",
       "    </tr>\n",
       "    <tr>\n",
       "      <th>2</th>\n",
       "      <td>0</td>\n",
       "      <td>2</td>\n",
       "      <td>96</td>\n",
       "    </tr>\n",
       "    <tr>\n",
       "      <th>3</th>\n",
       "      <td>0</td>\n",
       "      <td>3</td>\n",
       "      <td>67</td>\n",
       "    </tr>\n",
       "    <tr>\n",
       "      <th>4</th>\n",
       "      <td>0</td>\n",
       "      <td>4</td>\n",
       "      <td>26</td>\n",
       "    </tr>\n",
       "    <tr>\n",
       "      <th>5</th>\n",
       "      <td>0</td>\n",
       "      <td>5</td>\n",
       "      <td>5</td>\n",
       "    </tr>\n",
       "    <tr>\n",
       "      <th>6</th>\n",
       "      <td>0</td>\n",
       "      <td>6</td>\n",
       "      <td>2</td>\n",
       "    </tr>\n",
       "    <tr>\n",
       "      <th>7</th>\n",
       "      <td>1</td>\n",
       "      <td>0</td>\n",
       "      <td>230</td>\n",
       "    </tr>\n",
       "    <tr>\n",
       "      <th>8</th>\n",
       "      <td>1</td>\n",
       "      <td>1</td>\n",
       "      <td>221</td>\n",
       "    </tr>\n",
       "    <tr>\n",
       "      <th>9</th>\n",
       "      <td>1</td>\n",
       "      <td>2</td>\n",
       "      <td>156</td>\n",
       "    </tr>\n",
       "    <tr>\n",
       "      <th>10</th>\n",
       "      <td>1</td>\n",
       "      <td>3</td>\n",
       "      <td>70</td>\n",
       "    </tr>\n",
       "    <tr>\n",
       "      <th>11</th>\n",
       "      <td>1</td>\n",
       "      <td>4</td>\n",
       "      <td>30</td>\n",
       "    </tr>\n",
       "    <tr>\n",
       "      <th>12</th>\n",
       "      <td>1</td>\n",
       "      <td>5</td>\n",
       "      <td>8</td>\n",
       "    </tr>\n",
       "    <tr>\n",
       "      <th>13</th>\n",
       "      <td>1</td>\n",
       "      <td>6</td>\n",
       "      <td>1</td>\n",
       "    </tr>\n",
       "    <tr>\n",
       "      <th>14</th>\n",
       "      <td>1</td>\n",
       "      <td>7</td>\n",
       "      <td>1</td>\n",
       "    </tr>\n",
       "    <tr>\n",
       "      <th>15</th>\n",
       "      <td>2</td>\n",
       "      <td>0</td>\n",
       "      <td>204</td>\n",
       "    </tr>\n",
       "    <tr>\n",
       "      <th>16</th>\n",
       "      <td>2</td>\n",
       "      <td>1</td>\n",
       "      <td>171</td>\n",
       "    </tr>\n",
       "    <tr>\n",
       "      <th>17</th>\n",
       "      <td>2</td>\n",
       "      <td>2</td>\n",
       "      <td>119</td>\n",
       "    </tr>\n",
       "    <tr>\n",
       "      <th>18</th>\n",
       "      <td>2</td>\n",
       "      <td>3</td>\n",
       "      <td>44</td>\n",
       "    </tr>\n",
       "    <tr>\n",
       "      <th>19</th>\n",
       "      <td>2</td>\n",
       "      <td>4</td>\n",
       "      <td>8</td>\n",
       "    </tr>\n",
       "    <tr>\n",
       "      <th>20</th>\n",
       "      <td>2</td>\n",
       "      <td>5</td>\n",
       "      <td>2</td>\n",
       "    </tr>\n",
       "    <tr>\n",
       "      <th>21</th>\n",
       "      <td>2</td>\n",
       "      <td>6</td>\n",
       "      <td>1</td>\n",
       "    </tr>\n",
       "    <tr>\n",
       "      <th>22</th>\n",
       "      <td>3</td>\n",
       "      <td>0</td>\n",
       "      <td>96</td>\n",
       "    </tr>\n",
       "    <tr>\n",
       "      <th>23</th>\n",
       "      <td>3</td>\n",
       "      <td>1</td>\n",
       "      <td>112</td>\n",
       "    </tr>\n",
       "    <tr>\n",
       "      <th>24</th>\n",
       "      <td>3</td>\n",
       "      <td>2</td>\n",
       "      <td>48</td>\n",
       "    </tr>\n",
       "    <tr>\n",
       "      <th>25</th>\n",
       "      <td>3</td>\n",
       "      <td>3</td>\n",
       "      <td>21</td>\n",
       "    </tr>\n",
       "    <tr>\n",
       "      <th>26</th>\n",
       "      <td>3</td>\n",
       "      <td>4</td>\n",
       "      <td>5</td>\n",
       "    </tr>\n",
       "    <tr>\n",
       "      <th>27</th>\n",
       "      <td>3</td>\n",
       "      <td>5</td>\n",
       "      <td>1</td>\n",
       "    </tr>\n",
       "    <tr>\n",
       "      <th>28</th>\n",
       "      <td>3</td>\n",
       "      <td>6</td>\n",
       "      <td>2</td>\n",
       "    </tr>\n",
       "    <tr>\n",
       "      <th>29</th>\n",
       "      <td>4</td>\n",
       "      <td>0</td>\n",
       "      <td>50</td>\n",
       "    </tr>\n",
       "    <tr>\n",
       "      <th>30</th>\n",
       "      <td>4</td>\n",
       "      <td>1</td>\n",
       "      <td>46</td>\n",
       "    </tr>\n",
       "    <tr>\n",
       "      <th>31</th>\n",
       "      <td>4</td>\n",
       "      <td>2</td>\n",
       "      <td>21</td>\n",
       "    </tr>\n",
       "    <tr>\n",
       "      <th>32</th>\n",
       "      <td>4</td>\n",
       "      <td>3</td>\n",
       "      <td>10</td>\n",
       "    </tr>\n",
       "    <tr>\n",
       "      <th>33</th>\n",
       "      <td>4</td>\n",
       "      <td>5</td>\n",
       "      <td>1</td>\n",
       "    </tr>\n",
       "    <tr>\n",
       "      <th>34</th>\n",
       "      <td>5</td>\n",
       "      <td>0</td>\n",
       "      <td>20</td>\n",
       "    </tr>\n",
       "    <tr>\n",
       "      <th>35</th>\n",
       "      <td>5</td>\n",
       "      <td>1</td>\n",
       "      <td>16</td>\n",
       "    </tr>\n",
       "    <tr>\n",
       "      <th>36</th>\n",
       "      <td>5</td>\n",
       "      <td>2</td>\n",
       "      <td>1</td>\n",
       "    </tr>\n",
       "    <tr>\n",
       "      <th>37</th>\n",
       "      <td>5</td>\n",
       "      <td>3</td>\n",
       "      <td>3</td>\n",
       "    </tr>\n",
       "    <tr>\n",
       "      <th>38</th>\n",
       "      <td>5</td>\n",
       "      <td>4</td>\n",
       "      <td>2</td>\n",
       "    </tr>\n",
       "    <tr>\n",
       "      <th>39</th>\n",
       "      <td>6</td>\n",
       "      <td>0</td>\n",
       "      <td>5</td>\n",
       "    </tr>\n",
       "    <tr>\n",
       "      <th>40</th>\n",
       "      <td>6</td>\n",
       "      <td>1</td>\n",
       "      <td>7</td>\n",
       "    </tr>\n",
       "    <tr>\n",
       "      <th>41</th>\n",
       "      <td>6</td>\n",
       "      <td>2</td>\n",
       "      <td>2</td>\n",
       "    </tr>\n",
       "    <tr>\n",
       "      <th>42</th>\n",
       "      <td>6</td>\n",
       "      <td>3</td>\n",
       "      <td>2</td>\n",
       "    </tr>\n",
       "    <tr>\n",
       "      <th>43</th>\n",
       "      <td>7</td>\n",
       "      <td>0</td>\n",
       "      <td>1</td>\n",
       "    </tr>\n",
       "    <tr>\n",
       "      <th>44</th>\n",
       "      <td>7</td>\n",
       "      <td>2</td>\n",
       "      <td>1</td>\n",
       "    </tr>\n",
       "    <tr>\n",
       "      <th>45</th>\n",
       "      <td>8</td>\n",
       "      <td>0</td>\n",
       "      <td>1</td>\n",
       "    </tr>\n",
       "  </tbody>\n",
       "</table>\n",
       "</div>"
      ],
      "text/plain": [
       "    BDOM  BEXT  Date\n",
       "0      0     0   171\n",
       "1      0     1   173\n",
       "2      0     2    96\n",
       "3      0     3    67\n",
       "4      0     4    26\n",
       "5      0     5     5\n",
       "6      0     6     2\n",
       "7      1     0   230\n",
       "8      1     1   221\n",
       "9      1     2   156\n",
       "10     1     3    70\n",
       "11     1     4    30\n",
       "12     1     5     8\n",
       "13     1     6     1\n",
       "14     1     7     1\n",
       "15     2     0   204\n",
       "16     2     1   171\n",
       "17     2     2   119\n",
       "18     2     3    44\n",
       "19     2     4     8\n",
       "20     2     5     2\n",
       "21     2     6     1\n",
       "22     3     0    96\n",
       "23     3     1   112\n",
       "24     3     2    48\n",
       "25     3     3    21\n",
       "26     3     4     5\n",
       "27     3     5     1\n",
       "28     3     6     2\n",
       "29     4     0    50\n",
       "30     4     1    46\n",
       "31     4     2    21\n",
       "32     4     3    10\n",
       "33     4     5     1\n",
       "34     5     0    20\n",
       "35     5     1    16\n",
       "36     5     2     1\n",
       "37     5     3     3\n",
       "38     5     4     2\n",
       "39     6     0     5\n",
       "40     6     1     7\n",
       "41     6     2     2\n",
       "42     6     3     2\n",
       "43     7     0     1\n",
       "44     7     2     1\n",
       "45     8     0     1"
      ]
     },
     "execution_count": 38,
     "metadata": {},
     "output_type": "execute_result"
    }
   ],
   "source": [
    "R = T.groupby(['BDOM', 'BEXT']).count()\n",
    "R = R[['Date']]\n",
    "R.reset_index(inplace = True)\n",
    "R"
   ]
  },
  {
   "cell_type": "code",
   "execution_count": 39,
   "id": "e8de6849",
   "metadata": {},
   "outputs": [],
   "source": [
    "R['Freq'] = R['Date'] / len(T)"
   ]
  },
  {
   "cell_type": "code",
   "execution_count": 40,
   "id": "e5914b4f",
   "metadata": {},
   "outputs": [
    {
     "data": {
      "text/html": [
       "<div>\n",
       "<style scoped>\n",
       "    .dataframe tbody tr th:only-of-type {\n",
       "        vertical-align: middle;\n",
       "    }\n",
       "\n",
       "    .dataframe tbody tr th {\n",
       "        vertical-align: top;\n",
       "    }\n",
       "\n",
       "    .dataframe thead th {\n",
       "        text-align: right;\n",
       "    }\n",
       "</style>\n",
       "<table border=\"1\" class=\"dataframe\">\n",
       "  <thead>\n",
       "    <tr style=\"text-align: right;\">\n",
       "      <th></th>\n",
       "      <th>BDOM</th>\n",
       "      <th>BEXT</th>\n",
       "      <th>Date</th>\n",
       "      <th>Freq</th>\n",
       "    </tr>\n",
       "  </thead>\n",
       "  <tbody>\n",
       "    <tr>\n",
       "      <th>7</th>\n",
       "      <td>1</td>\n",
       "      <td>0</td>\n",
       "      <td>230</td>\n",
       "      <td>0.100877</td>\n",
       "    </tr>\n",
       "    <tr>\n",
       "      <th>8</th>\n",
       "      <td>1</td>\n",
       "      <td>1</td>\n",
       "      <td>221</td>\n",
       "      <td>0.096930</td>\n",
       "    </tr>\n",
       "    <tr>\n",
       "      <th>15</th>\n",
       "      <td>2</td>\n",
       "      <td>0</td>\n",
       "      <td>204</td>\n",
       "      <td>0.089474</td>\n",
       "    </tr>\n",
       "    <tr>\n",
       "      <th>1</th>\n",
       "      <td>0</td>\n",
       "      <td>1</td>\n",
       "      <td>173</td>\n",
       "      <td>0.075877</td>\n",
       "    </tr>\n",
       "    <tr>\n",
       "      <th>0</th>\n",
       "      <td>0</td>\n",
       "      <td>0</td>\n",
       "      <td>171</td>\n",
       "      <td>0.075000</td>\n",
       "    </tr>\n",
       "    <tr>\n",
       "      <th>16</th>\n",
       "      <td>2</td>\n",
       "      <td>1</td>\n",
       "      <td>171</td>\n",
       "      <td>0.075000</td>\n",
       "    </tr>\n",
       "    <tr>\n",
       "      <th>9</th>\n",
       "      <td>1</td>\n",
       "      <td>2</td>\n",
       "      <td>156</td>\n",
       "      <td>0.068421</td>\n",
       "    </tr>\n",
       "    <tr>\n",
       "      <th>17</th>\n",
       "      <td>2</td>\n",
       "      <td>2</td>\n",
       "      <td>119</td>\n",
       "      <td>0.052193</td>\n",
       "    </tr>\n",
       "    <tr>\n",
       "      <th>23</th>\n",
       "      <td>3</td>\n",
       "      <td>1</td>\n",
       "      <td>112</td>\n",
       "      <td>0.049123</td>\n",
       "    </tr>\n",
       "    <tr>\n",
       "      <th>22</th>\n",
       "      <td>3</td>\n",
       "      <td>0</td>\n",
       "      <td>96</td>\n",
       "      <td>0.042105</td>\n",
       "    </tr>\n",
       "  </tbody>\n",
       "</table>\n",
       "</div>"
      ],
      "text/plain": [
       "    BDOM  BEXT  Date      Freq\n",
       "7      1     0   230  0.100877\n",
       "8      1     1   221  0.096930\n",
       "15     2     0   204  0.089474\n",
       "1      0     1   173  0.075877\n",
       "0      0     0   171  0.075000\n",
       "16     2     1   171  0.075000\n",
       "9      1     2   156  0.068421\n",
       "17     2     2   119  0.052193\n",
       "23     3     1   112  0.049123\n",
       "22     3     0    96  0.042105"
      ]
     },
     "execution_count": 40,
     "metadata": {},
     "output_type": "execute_result"
    }
   ],
   "source": [
    "R.sort_values('Date', ascending = False, inplace=True)\n",
    "R.head(10)"
   ]
  },
  {
   "cell_type": "code",
   "execution_count": 41,
   "id": "173815ae",
   "metadata": {},
   "outputs": [
    {
     "data": {
      "text/html": [
       "<div>\n",
       "<style scoped>\n",
       "    .dataframe tbody tr th:only-of-type {\n",
       "        vertical-align: middle;\n",
       "    }\n",
       "\n",
       "    .dataframe tbody tr th {\n",
       "        vertical-align: top;\n",
       "    }\n",
       "\n",
       "    .dataframe thead th {\n",
       "        text-align: right;\n",
       "    }\n",
       "</style>\n",
       "<table border=\"1\" class=\"dataframe\">\n",
       "  <thead>\n",
       "    <tr style=\"text-align: right;\">\n",
       "      <th></th>\n",
       "      <th>Date</th>\n",
       "      <th>DOM</th>\n",
       "      <th>EXT</th>\n",
       "      <th>BDOM</th>\n",
       "      <th>BEXT</th>\n",
       "    </tr>\n",
       "  </thead>\n",
       "  <tbody>\n",
       "    <tr>\n",
       "      <th>0</th>\n",
       "      <td>17/08/13</td>\n",
       "      <td>Arsenal</td>\n",
       "      <td>Aston Villa</td>\n",
       "      <td>1</td>\n",
       "      <td>3</td>\n",
       "    </tr>\n",
       "    <tr>\n",
       "      <th>1</th>\n",
       "      <td>17/08/13</td>\n",
       "      <td>Liverpool</td>\n",
       "      <td>Stoke</td>\n",
       "      <td>1</td>\n",
       "      <td>0</td>\n",
       "    </tr>\n",
       "    <tr>\n",
       "      <th>2</th>\n",
       "      <td>17/08/13</td>\n",
       "      <td>Norwich</td>\n",
       "      <td>Everton</td>\n",
       "      <td>2</td>\n",
       "      <td>2</td>\n",
       "    </tr>\n",
       "    <tr>\n",
       "      <th>3</th>\n",
       "      <td>17/08/13</td>\n",
       "      <td>Sunderland</td>\n",
       "      <td>Fulham</td>\n",
       "      <td>0</td>\n",
       "      <td>1</td>\n",
       "    </tr>\n",
       "    <tr>\n",
       "      <th>4</th>\n",
       "      <td>17/08/13</td>\n",
       "      <td>Swansea</td>\n",
       "      <td>Man United</td>\n",
       "      <td>1</td>\n",
       "      <td>4</td>\n",
       "    </tr>\n",
       "  </tbody>\n",
       "</table>\n",
       "</div>"
      ],
      "text/plain": [
       "       Date         DOM          EXT  BDOM  BEXT\n",
       "0  17/08/13     Arsenal  Aston Villa     1     3\n",
       "1  17/08/13   Liverpool        Stoke     1     0\n",
       "2  17/08/13     Norwich      Everton     2     2\n",
       "3  17/08/13  Sunderland       Fulham     0     1\n",
       "4  17/08/13     Swansea   Man United     1     4"
      ]
     },
     "execution_count": 41,
     "metadata": {},
     "output_type": "execute_result"
    }
   ],
   "source": [
    "import pandas as pa\n",
    "import glob\n",
    "import csv, os\n",
    "\n",
    "path = \"C:/Users/ACER/datascience/premier-league\"\n",
    "files_joined = os.path.join(path, \"season*.csv\")\n",
    "list_files = glob.glob(files_joined)\n",
    "T = pa.concat(map(pa.read_csv, list_files), ignore_index=True)\n",
    "\n",
    "col = ['Date', 'HomeTeam', 'AwayTeam', 'FTHG', 'FTAG']\n",
    "T = T[col]\n",
    "\n",
    "T.rename(columns = {'HomeTeam' : 'DOM', 'AwayTeam' : 'EXT', 'FTHG' : 'BDOM', 'FTAG' : 'BEXT'}, inplace = True )\n",
    "\n",
    "\n",
    "T.head()"
   ]
  },
  {
   "cell_type": "code",
   "execution_count": 42,
   "id": "444a08ea",
   "metadata": {},
   "outputs": [
    {
     "data": {
      "text/plain": [
       "2280"
      ]
     },
     "execution_count": 42,
     "metadata": {},
     "output_type": "execute_result"
    }
   ],
   "source": [
    "len(T)"
   ]
  },
  {
   "cell_type": "code",
   "execution_count": 43,
   "id": "18453d6a",
   "metadata": {},
   "outputs": [
    {
     "data": {
      "text/html": [
       "<div>\n",
       "<style scoped>\n",
       "    .dataframe tbody tr th:only-of-type {\n",
       "        vertical-align: middle;\n",
       "    }\n",
       "\n",
       "    .dataframe tbody tr th {\n",
       "        vertical-align: top;\n",
       "    }\n",
       "\n",
       "    .dataframe thead th {\n",
       "        text-align: right;\n",
       "    }\n",
       "</style>\n",
       "<table border=\"1\" class=\"dataframe\">\n",
       "  <thead>\n",
       "    <tr style=\"text-align: right;\">\n",
       "      <th>BEXT</th>\n",
       "      <th>0</th>\n",
       "      <th>1</th>\n",
       "      <th>2</th>\n",
       "      <th>3</th>\n",
       "      <th>4</th>\n",
       "      <th>5</th>\n",
       "      <th>6</th>\n",
       "      <th>7</th>\n",
       "      <th>All</th>\n",
       "    </tr>\n",
       "    <tr>\n",
       "      <th>BDOM</th>\n",
       "      <th></th>\n",
       "      <th></th>\n",
       "      <th></th>\n",
       "      <th></th>\n",
       "      <th></th>\n",
       "      <th></th>\n",
       "      <th></th>\n",
       "      <th></th>\n",
       "      <th></th>\n",
       "    </tr>\n",
       "  </thead>\n",
       "  <tbody>\n",
       "    <tr>\n",
       "      <th>0</th>\n",
       "      <td>171</td>\n",
       "      <td>173</td>\n",
       "      <td>96</td>\n",
       "      <td>67</td>\n",
       "      <td>26</td>\n",
       "      <td>5</td>\n",
       "      <td>2</td>\n",
       "      <td>0</td>\n",
       "      <td>540</td>\n",
       "    </tr>\n",
       "    <tr>\n",
       "      <th>1</th>\n",
       "      <td>230</td>\n",
       "      <td>221</td>\n",
       "      <td>156</td>\n",
       "      <td>70</td>\n",
       "      <td>30</td>\n",
       "      <td>8</td>\n",
       "      <td>1</td>\n",
       "      <td>1</td>\n",
       "      <td>717</td>\n",
       "    </tr>\n",
       "    <tr>\n",
       "      <th>2</th>\n",
       "      <td>204</td>\n",
       "      <td>171</td>\n",
       "      <td>119</td>\n",
       "      <td>44</td>\n",
       "      <td>8</td>\n",
       "      <td>2</td>\n",
       "      <td>1</td>\n",
       "      <td>0</td>\n",
       "      <td>549</td>\n",
       "    </tr>\n",
       "    <tr>\n",
       "      <th>3</th>\n",
       "      <td>96</td>\n",
       "      <td>112</td>\n",
       "      <td>48</td>\n",
       "      <td>21</td>\n",
       "      <td>5</td>\n",
       "      <td>1</td>\n",
       "      <td>2</td>\n",
       "      <td>0</td>\n",
       "      <td>285</td>\n",
       "    </tr>\n",
       "    <tr>\n",
       "      <th>4</th>\n",
       "      <td>50</td>\n",
       "      <td>46</td>\n",
       "      <td>21</td>\n",
       "      <td>10</td>\n",
       "      <td>0</td>\n",
       "      <td>1</td>\n",
       "      <td>0</td>\n",
       "      <td>0</td>\n",
       "      <td>128</td>\n",
       "    </tr>\n",
       "    <tr>\n",
       "      <th>5</th>\n",
       "      <td>20</td>\n",
       "      <td>16</td>\n",
       "      <td>1</td>\n",
       "      <td>3</td>\n",
       "      <td>2</td>\n",
       "      <td>0</td>\n",
       "      <td>0</td>\n",
       "      <td>0</td>\n",
       "      <td>42</td>\n",
       "    </tr>\n",
       "    <tr>\n",
       "      <th>6</th>\n",
       "      <td>5</td>\n",
       "      <td>7</td>\n",
       "      <td>2</td>\n",
       "      <td>2</td>\n",
       "      <td>0</td>\n",
       "      <td>0</td>\n",
       "      <td>0</td>\n",
       "      <td>0</td>\n",
       "      <td>16</td>\n",
       "    </tr>\n",
       "    <tr>\n",
       "      <th>7</th>\n",
       "      <td>1</td>\n",
       "      <td>0</td>\n",
       "      <td>1</td>\n",
       "      <td>0</td>\n",
       "      <td>0</td>\n",
       "      <td>0</td>\n",
       "      <td>0</td>\n",
       "      <td>0</td>\n",
       "      <td>2</td>\n",
       "    </tr>\n",
       "    <tr>\n",
       "      <th>8</th>\n",
       "      <td>1</td>\n",
       "      <td>0</td>\n",
       "      <td>0</td>\n",
       "      <td>0</td>\n",
       "      <td>0</td>\n",
       "      <td>0</td>\n",
       "      <td>0</td>\n",
       "      <td>0</td>\n",
       "      <td>1</td>\n",
       "    </tr>\n",
       "    <tr>\n",
       "      <th>All</th>\n",
       "      <td>778</td>\n",
       "      <td>746</td>\n",
       "      <td>444</td>\n",
       "      <td>217</td>\n",
       "      <td>71</td>\n",
       "      <td>17</td>\n",
       "      <td>6</td>\n",
       "      <td>1</td>\n",
       "      <td>2280</td>\n",
       "    </tr>\n",
       "  </tbody>\n",
       "</table>\n",
       "</div>"
      ],
      "text/plain": [
       "BEXT    0    1    2    3   4   5  6  7   All\n",
       "BDOM                                        \n",
       "0     171  173   96   67  26   5  2  0   540\n",
       "1     230  221  156   70  30   8  1  1   717\n",
       "2     204  171  119   44   8   2  1  0   549\n",
       "3      96  112   48   21   5   1  2  0   285\n",
       "4      50   46   21   10   0   1  0  0   128\n",
       "5      20   16    1    3   2   0  0  0    42\n",
       "6       5    7    2    2   0   0  0  0    16\n",
       "7       1    0    1    0   0   0  0  0     2\n",
       "8       1    0    0    0   0   0  0  0     1\n",
       "All   778  746  444  217  71  17  6  1  2280"
      ]
     },
     "execution_count": 43,
     "metadata": {},
     "output_type": "execute_result"
    }
   ],
   "source": [
    "pa.crosstab(T['BDOM'], T['BEXT'],\n",
    "           margins = True,\n",
    "           normalize = False)"
   ]
  },
  {
   "cell_type": "code",
   "execution_count": 44,
   "id": "b770b796",
   "metadata": {},
   "outputs": [
    {
     "data": {
      "text/html": [
       "<div>\n",
       "<style scoped>\n",
       "    .dataframe tbody tr th:only-of-type {\n",
       "        vertical-align: middle;\n",
       "    }\n",
       "\n",
       "    .dataframe tbody tr th {\n",
       "        vertical-align: top;\n",
       "    }\n",
       "\n",
       "    .dataframe thead th {\n",
       "        text-align: right;\n",
       "    }\n",
       "</style>\n",
       "<table border=\"1\" class=\"dataframe\">\n",
       "  <thead>\n",
       "    <tr style=\"text-align: right;\">\n",
       "      <th>BEXT</th>\n",
       "      <th>0</th>\n",
       "      <th>1</th>\n",
       "      <th>2</th>\n",
       "      <th>3</th>\n",
       "      <th>4</th>\n",
       "      <th>5</th>\n",
       "      <th>6</th>\n",
       "      <th>7</th>\n",
       "      <th>All</th>\n",
       "    </tr>\n",
       "    <tr>\n",
       "      <th>BDOM</th>\n",
       "      <th></th>\n",
       "      <th></th>\n",
       "      <th></th>\n",
       "      <th></th>\n",
       "      <th></th>\n",
       "      <th></th>\n",
       "      <th></th>\n",
       "      <th></th>\n",
       "      <th></th>\n",
       "    </tr>\n",
       "  </thead>\n",
       "  <tbody>\n",
       "    <tr>\n",
       "      <th>0</th>\n",
       "      <td>0.075000</td>\n",
       "      <td>0.075877</td>\n",
       "      <td>0.042105</td>\n",
       "      <td>0.029386</td>\n",
       "      <td>0.011404</td>\n",
       "      <td>0.002193</td>\n",
       "      <td>0.000877</td>\n",
       "      <td>0.000000</td>\n",
       "      <td>0.236842</td>\n",
       "    </tr>\n",
       "    <tr>\n",
       "      <th>1</th>\n",
       "      <td>0.100877</td>\n",
       "      <td>0.096930</td>\n",
       "      <td>0.068421</td>\n",
       "      <td>0.030702</td>\n",
       "      <td>0.013158</td>\n",
       "      <td>0.003509</td>\n",
       "      <td>0.000439</td>\n",
       "      <td>0.000439</td>\n",
       "      <td>0.314474</td>\n",
       "    </tr>\n",
       "    <tr>\n",
       "      <th>2</th>\n",
       "      <td>0.089474</td>\n",
       "      <td>0.075000</td>\n",
       "      <td>0.052193</td>\n",
       "      <td>0.019298</td>\n",
       "      <td>0.003509</td>\n",
       "      <td>0.000877</td>\n",
       "      <td>0.000439</td>\n",
       "      <td>0.000000</td>\n",
       "      <td>0.240789</td>\n",
       "    </tr>\n",
       "    <tr>\n",
       "      <th>3</th>\n",
       "      <td>0.042105</td>\n",
       "      <td>0.049123</td>\n",
       "      <td>0.021053</td>\n",
       "      <td>0.009211</td>\n",
       "      <td>0.002193</td>\n",
       "      <td>0.000439</td>\n",
       "      <td>0.000877</td>\n",
       "      <td>0.000000</td>\n",
       "      <td>0.125000</td>\n",
       "    </tr>\n",
       "    <tr>\n",
       "      <th>4</th>\n",
       "      <td>0.021930</td>\n",
       "      <td>0.020175</td>\n",
       "      <td>0.009211</td>\n",
       "      <td>0.004386</td>\n",
       "      <td>0.000000</td>\n",
       "      <td>0.000439</td>\n",
       "      <td>0.000000</td>\n",
       "      <td>0.000000</td>\n",
       "      <td>0.056140</td>\n",
       "    </tr>\n",
       "    <tr>\n",
       "      <th>5</th>\n",
       "      <td>0.008772</td>\n",
       "      <td>0.007018</td>\n",
       "      <td>0.000439</td>\n",
       "      <td>0.001316</td>\n",
       "      <td>0.000877</td>\n",
       "      <td>0.000000</td>\n",
       "      <td>0.000000</td>\n",
       "      <td>0.000000</td>\n",
       "      <td>0.018421</td>\n",
       "    </tr>\n",
       "    <tr>\n",
       "      <th>6</th>\n",
       "      <td>0.002193</td>\n",
       "      <td>0.003070</td>\n",
       "      <td>0.000877</td>\n",
       "      <td>0.000877</td>\n",
       "      <td>0.000000</td>\n",
       "      <td>0.000000</td>\n",
       "      <td>0.000000</td>\n",
       "      <td>0.000000</td>\n",
       "      <td>0.007018</td>\n",
       "    </tr>\n",
       "    <tr>\n",
       "      <th>7</th>\n",
       "      <td>0.000439</td>\n",
       "      <td>0.000000</td>\n",
       "      <td>0.000439</td>\n",
       "      <td>0.000000</td>\n",
       "      <td>0.000000</td>\n",
       "      <td>0.000000</td>\n",
       "      <td>0.000000</td>\n",
       "      <td>0.000000</td>\n",
       "      <td>0.000877</td>\n",
       "    </tr>\n",
       "    <tr>\n",
       "      <th>8</th>\n",
       "      <td>0.000439</td>\n",
       "      <td>0.000000</td>\n",
       "      <td>0.000000</td>\n",
       "      <td>0.000000</td>\n",
       "      <td>0.000000</td>\n",
       "      <td>0.000000</td>\n",
       "      <td>0.000000</td>\n",
       "      <td>0.000000</td>\n",
       "      <td>0.000439</td>\n",
       "    </tr>\n",
       "    <tr>\n",
       "      <th>All</th>\n",
       "      <td>0.341228</td>\n",
       "      <td>0.327193</td>\n",
       "      <td>0.194737</td>\n",
       "      <td>0.095175</td>\n",
       "      <td>0.031140</td>\n",
       "      <td>0.007456</td>\n",
       "      <td>0.002632</td>\n",
       "      <td>0.000439</td>\n",
       "      <td>1.000000</td>\n",
       "    </tr>\n",
       "  </tbody>\n",
       "</table>\n",
       "</div>"
      ],
      "text/plain": [
       "BEXT         0         1         2         3         4         5         6  \\\n",
       "BDOM                                                                         \n",
       "0     0.075000  0.075877  0.042105  0.029386  0.011404  0.002193  0.000877   \n",
       "1     0.100877  0.096930  0.068421  0.030702  0.013158  0.003509  0.000439   \n",
       "2     0.089474  0.075000  0.052193  0.019298  0.003509  0.000877  0.000439   \n",
       "3     0.042105  0.049123  0.021053  0.009211  0.002193  0.000439  0.000877   \n",
       "4     0.021930  0.020175  0.009211  0.004386  0.000000  0.000439  0.000000   \n",
       "5     0.008772  0.007018  0.000439  0.001316  0.000877  0.000000  0.000000   \n",
       "6     0.002193  0.003070  0.000877  0.000877  0.000000  0.000000  0.000000   \n",
       "7     0.000439  0.000000  0.000439  0.000000  0.000000  0.000000  0.000000   \n",
       "8     0.000439  0.000000  0.000000  0.000000  0.000000  0.000000  0.000000   \n",
       "All   0.341228  0.327193  0.194737  0.095175  0.031140  0.007456  0.002632   \n",
       "\n",
       "BEXT         7       All  \n",
       "BDOM                      \n",
       "0     0.000000  0.236842  \n",
       "1     0.000439  0.314474  \n",
       "2     0.000000  0.240789  \n",
       "3     0.000000  0.125000  \n",
       "4     0.000000  0.056140  \n",
       "5     0.000000  0.018421  \n",
       "6     0.000000  0.007018  \n",
       "7     0.000000  0.000877  \n",
       "8     0.000000  0.000439  \n",
       "All   0.000439  1.000000  "
      ]
     },
     "execution_count": 44,
     "metadata": {},
     "output_type": "execute_result"
    }
   ],
   "source": [
    "P = pa.crosstab(T['BDOM'], T['BEXT'],\n",
    "           margins = True,\n",
    "           normalize = True)\n",
    "P"
   ]
  },
  {
   "cell_type": "code",
   "execution_count": 45,
   "id": "0f14e4e8",
   "metadata": {},
   "outputs": [
    {
     "data": {
      "text/plain": [
       "1.539473684210526"
      ]
     },
     "execution_count": 45,
     "metadata": {},
     "output_type": "execute_result"
    }
   ],
   "source": [
    "EX = 0\n",
    "for k in range(9):\n",
    "    EX = EX + k * P.loc[k, 'All']\n",
    "EX"
   ]
  },
  {
   "cell_type": "code",
   "execution_count": 46,
   "id": "b849fab3",
   "metadata": {},
   "outputs": [
    {
     "data": {
      "text/plain": [
       "1.1828947368421052"
      ]
     },
     "execution_count": 46,
     "metadata": {},
     "output_type": "execute_result"
    }
   ],
   "source": [
    "EY = 0\n",
    "for k in range(8):\n",
    "    EY = EY + k * P.loc['All', k]\n",
    "EY"
   ]
  },
  {
   "cell_type": "code",
   "execution_count": 47,
   "id": "5341b3dd",
   "metadata": {},
   "outputs": [],
   "source": [
    "pl.style.use('bmh')"
   ]
  },
  {
   "cell_type": "code",
   "execution_count": 48,
   "id": "c78b1897",
   "metadata": {},
   "outputs": [
    {
     "data": {
      "text/plain": [
       "<matplotlib.collections.PathCollection at 0x17ed65e3b10>"
      ]
     },
     "execution_count": 48,
     "metadata": {},
     "output_type": "execute_result"
    },
    {
     "data": {
      "image/png": "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[6t7GaZiWNWsgLo0eXdtuuu�fgCtBh7a3Hl3�J3[XnwuAseEdXIhxaOYtpHK2DY/H�8GDB3E4HOh0OfJycqirqwMgL�+PwcFBOr/s1Jo1axaHDh3CZ2ORdJREbn6+b+U6b9749vah2�IzZsygpaWFgYEBEjMTmT59uq8u4ux7sSY5MU8/+c~z/TzmghPwqNKZ9+RzZFT1Ufe906g/62S�uz5lztaDufjbQ+e05iX6c</GnlqCxoyCF+7BarVSVV�Feno2ycnJv�TZRUVF9PT0jHu+jUYjhw4dA/byxZVNZnp7e1GpVFRUVLRv;z5cLhdgo5H09HQahqAoSV/BwYG6O7uBqCio'KbrUZlZSXxmlacpj10l//P0Plu3IY9pRDLtKHxBVl7/kxP+Q/RqFM4X1uD�+2mqqoKgNzcXNxuOx0dHQDMfFmTpqYm3/kuKCjgwIELAGRnZ6NS�Xznu6ysjNbWV�xWK1qtLqKiIl/zalZWFvHx8bS2tgJQWlpKR8cHNosFjU^DaWktNTU13WRkUFiYqKvrlStr9NXegy29DI8cQjo2nbTfsxleBxwhuW/uFw}X/mnT49OX18fnX19qNqysvLqakZ#kxJSSElJWXE+bZYLPT09AAwZ84c9u/fz+DwoN/z"bPZOHLkCADl5eXU1dXhcDBQ>/VkZ2cHvGYbGxux2+1YLBbS09O56Cc/ZMmSJfT29tLV1TXifDc3N/uu2cLCwhHnW61U09bU5jvfbW!<9Pf3n=VqKS4uZt+)fQBkZmai0WjCdo+o6OhgsrK[wZQqULLoqOj@4fDMeaaDUtLo7FxKHttQUEBVqv^d80OP98Gg4HMzEzq6+sBmDZtGna73e/5lvIeYbfbueiiizjp2AWUl5dnNpt915K/a7a9vZ3+/n6/16x_qx1xvru6ujCb:cTHxzNr1izffs�5j4iLi/Mdx9814uDBgzidTvR6PVlZWSPOt8PhoOvLZS9nz55NQ0MLdrsdnU5Hbm6u77nm7x7pox9�YTBYaWvT8:Mflv�nP+8lDW2oVCqVi+OHDnH66RA�~�CqqnqeecbMw�VJVFRUsHv3bl95X2sdgXfeaWDzZjsGQxq�vc309vii1WyZP38+9933AUt2wB135PLrZ+�PaGP9bu3t7Zx#ejeFhQlcfPHRFBfvZYs+Nq3stm9O4Wf/Ww/NTVOck@l8UxmZihceeWVvQhGG/znP/+hoODA7zaDg^w3?6d0tLSoFsi9u7dy9KlS9m6PDdgnkj2y64gZ/dj435�1elg�Qttb�}2jYULfwZpNXWCLb+XiTy8RMMnkIvusI3GLUdQuT70nZxB7Q+undAjWnXij0Be/qpETmX3xz+f4R5y�78/vG++3im3Sn3zFR7yp+qqijnz5kT8uHPnptDaqmbaNCfuHhrj4K+1AIbGLdxyy9A4Bf+tbTt3whtv7OTttx&7xTppNg;1SAR7jECfhZYWy]|z8+mn3ezdu5clS5yQHz;+e8OkWiKuvvpqXnv|Nl577�1X4jhCEwG4uLiJnMogdxwe8jebSL7�z7>8'Q0nZbBoE7Z3ZcCeVJWVsauXbvo6OhQ9ANNeIj8OVJJM4Oipwc:bJBm0S6hMXSPkO7+Ho+HtWvX8vLDL/Puu+9GNdtXRpWfhOUKREke8VYxhRu60LxYfiOiY5jU0A8tOybknwmQsku9T1fFUFq/vM3jvq7�vxdSZSVljgfny+bMf2PRXjIj9NS0m3XQZLxC9/61jzBV/8MhZCMeK5Zs4ZnnnmGX599FoPBQFt`G21tbVHJ/GUuOCHkzwHQvXQN�uY8xwr2m4nyWdn�7E41RdAg�8gkGJ�nq9HoAbtx5hxQttrihjccC33/f/P_IyO2UxL%PnmlIzzkhVw8pjo1s6i0adzpn6Ee�+w|EY888ggAp5xy9oi/P/XUU1x80cWxH30KOIyFET�muJC7hxqY)<WZkup++vO1NJ2WyWDy2K4puYuM(703dM28fFpHZdeU+5u8t6l5eB4Iq9XC5^df7vtdqRk2g5EHJhwID3khJ4+ptEh4J4lOZhnx0ccwOIzWFw2FkLRz5EK8vTfaR:AEOHtourrYCsyp7qdjUQodxxhHtD4MR84eohj+5j6aK7MO88gLbQG/J2dGBwgJ�x6E;kqFUsCZTAYCGSI05EWPUY/TicbSAzvWpIikAgVxY6IS6t+mdpFkAS5esRv3cqxl15KJ/DuinSy%gR+eMrVYzz8vbl78Zg8/PjHPx7z�6W9�cuhz1cKh�e8DB7S0NU11O0w1fELN=44d8TnkY4kZBtDTNR8:Fl6GY5tE0/6+�Kh86hgpraGTE�B0m86y6SHNiA7kWLOGrXLv6QpWGitCyyxwiC8QKCaE1�kpqamhrhISOEh7yItofTKc1Ay�Lij7nggpEbRDKQkF0QEei[m�iVs22sG�FJ2d/+BBOj�m5Gd9l�xH30EdZbb+XTBUvoOvZUoAIyjcPNk�W6VRKYCcQCAThJjPzq4GQUwk+a-uGBltOZhnx0ceYDLILIgI1Mw/H6XRy2omnJdwmms3PwT4w4w7qmvDhG8r+Jcw22+ju/JKSErC'Oqru�4.Hv2XWdcmCugAmh55h23bJg7qQQ6CXUzGZrSLIAnCQ14ID3krbQ�NBl57bepTEx9+NI+rr/7q1+GEGkhMZjUK2QURMH<z83B6e3tJTU0Nf2FCJNiWNC?z5h3k88+De/gO3�9oOJ0k/da3JD78MI7vfAfrs/j+XItlGADOh�KTnrrrbdOuJ0SxhVMdV2XuSA8=IXwkBfh9njllSTWr0/CYhk5GL29/avfpeh2+Ml�cujpmdwy4qOP8cEHX5Vx8WIjTzwxsacsg4igOHz4{CyFiFCevA0DS85OTmo�aV+AKsPHU;ySPE7d2L3be/xb5mzVAatWEEe7}YCUcA8r22QkV4yAvhIS/C7`F+fRIHDkxcqXmygURd�R0325wJTD6QyMwcWl2U?VbR3l5cGinFBhFyJpQHfbQevglvv07y1VfjMox~/46zkWNIl4GgUAeiFW8LRBq^eTlDc3EmJmG3tNGT++UokViMsu]j{5GiZ8uS4amZnBeYauSVJORDPhtPRE3MNu�#nEG9/7GcMnnQS5u3bJQkgqU+IHZkhAe8EB7yIlIeeXnQ3Ax9fUNZJ8�LtzTZrKPDX0IDZbYM5hjeh}iLBuz24PwUG0R4l2FVOpH0UDc0YDjzTLR//jPW9evp/7//wyNRc16s1AfejovwkBfCQ15Ew"N4cunRD3CYXCDhX59+DGmEkjATCtEsE3kig0irP7MFUikPBK2bcK4zAm1#l7Mb76J/Yorxox/mAqx�H8QOy?CQ14ID3kRLQ9vF4LJNLmH/OhAoq6uZ8w+pGiReOml4HwUG0QEWt9cSYTdw2Yj6eQr9yJc>lSzG9+y6uo�+G/DCx�h8QOy7CQ14ID3kRKQoHOEX4jcbJP+SLBxJbtmhC8rQrmGMDOxFY5QnjghiD�4Ns376dhQsXEhc+8ShFgbSoa2vRrVpF#P?9WNetw7FypaStDWKBQCDwz9y5KbS2qlGpYMeOrwZCFhRAS8vQgEu9fqhFwmgcOcjRi8MxlB47IWGoi2H07dvjGfrc6Rz63N9yI�4BncEcY3AQ3G7Iz4eGhqn95ilSwAGXIptiaiqqop2ESQ�XB�JL76IcelSVFYr5rfgxrFqVVgDiFipD4gdF+EhL4SHvIiUR0LCyI�Q3'e53/;Ripkm11B'Mfqns3MoUHhmZNjP788GG4/v�deDxDr/bbRyjHcLtHljEYYyNeSv�VA7Mk/7'/h/avf8_+fDnW++8P5YoQCAQCgWRkZk�x8RdTM71dLMO7D0BpLRjeIpGuBNOmSdc�kZgIN=0U6J9iWyLSv8yqqH[k9FDv24fxtNPQ/oMf9D/wANbHHotYCBEr9QGx4{A(5IXwkBeR8lCpRg6EnD4dqquHpn16f7zTP00mWL165G&Nz`DRMdPlkpg4FJAM//4FF+UQ0jIUAJxwwtLUzJdeGruPYI+RkACPPgpB5kdUbktEsFkeIVtbW;QWSqH$3K5aG9vD�l7o7NXajZuJPLXv0Kdn4pyxbcw+bneDweur�76e/wRFT�Z2ejkrirg351cdUiBUX4SEvhIe8�KRH_
nFGb18UZT6GOeeC5WVE7spN-hobm6WTZrl2tpaFk0yXVNlZSXrqq2b1Hd3?dpWW4�yTfcgPa557Cfdx6We+8FnQ6Avr4+nnvuOZ544gnq6+t93yspKeGyyy7jvPPOIyUmZTNHHo2c>}OqxIqL8J�XwkNeRNojxIHEwYMhWfzljqQ8xve/H5qXbIKIU/�rVYre/fuDXr7cA785C33+lMzKE,LCGm7MmmJBFyeW9J36nuc3Lj1CJ7PPsN6/vmom5vpn.hhH�a$59tm68atPHrxxV�t1jHfb2ho:AUvTz/9FKeeeuqYbZRcHwKBQCBHw�FI3HdfeI6xaVnwXR�9KCIl8YZ�V�REY2NjSN/ZtWtXWB1cJWkJzMn9M6HlAI6G19GE+B 8HlYBx1xJZSUDHVfl�f7Pt66dSsrVqzA4/Jgbwav28DAwKsWLGCjRs3jfgkYpU+JktR]VG0iyAJwkNeS@y5SmP0bdgqQOJe+8t569/lX6tjW98A7Zvn9hPF�HEZN�k4+eczGD�5qC29b6�T2bMQrgZyCxHYzkc9PZqh5vkdvXxE+DwaeRyNhjM�xvr6+vj4svvhiPy4PbOq9nHNhuN2q1mmswv`jPP//c17UR1�URbOuKw+FA42948yjk1pbS09�D7suuLSUjPOWf8AiNrq6hmRHhWlBrw4ZOzjjDGJZF�4JBFkGEd1De5NsLy8npDcJMijm29�mkNLwU1LaJXQ6mv92Fut?FT4H�f/UrFo4AHPTcc89htVr9tkD4w+12Y7Va2bhxI1dcccWIz2KpPkJpXQl�nIpcW1M@TN4J<GpHeIgL4REaTmd<V+Zc5fIIP/5xSdiOMRGyCiJCQe0KcokpmRNUh8dDeqWFvP/2YM1NYMupGTz3TheXj9nM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\n",
      "text/plain": [
       "<Figure size 640x480 with 1 Axes>"
      ]
     },
     "metadata": {},
     "output_type": "display_data"
    }
   ],
   "source": [
    "pl.plot([0, 8], [0, 8] ,color = 'red', linewidth = 1)\n",
    "pl.plot(EX, EY, 'o', color = 'black', markersize = 10)\n",
    "pl.xticks(range(10))\n",
    "pl.yticks(range(10))\n",
    "for i in range(8):\n",
    "    for j in range(9):\n",
    "        pl.scatter(j, i, marker = 's',\n",
    "                  facecolor = 'chocolate',\n",
    "                  edgecolor = 'black',\n",
    "                  s = 4000 * P.loc[j, i],\n",
    "                  linewidth = 1)\n",
    "\n",
    "for k in range(9):\n",
    "    pl.scatter(k, 9, marker = 's',\n",
    "        facecolor = 'white',\n",
    "        color = 'black',\n",
    "        hatch = '////',\n",
    "        s = 4000 * P.loc[k, 'All'],\n",
    "        linewidth = 2)\n",
    "    \n",
    "for k in range(8):\n",
    "    pl.scatter(9, k, marker = 's',\n",
    "        facecolor = 'white',\n",
    "        color = 'blue',\n",
    "        hatch = '\\\\\\\\\\\\\\\\',\n",
    "        s = 4000 * P.loc['All', k],\n",
    "        linewidth = 2)\n",
    "\n",
    "pl.scatter(9, k, marker = 's',\n",
    "    facecolor = 'white',\n",
    "    color = 'chocolate',\n",
    "    hatch = 'xx',\n",
    "    s = 4000,\n",
    "    linewidth = 2)"
   ]
  },
  {
   "cell_type": "code",
   "execution_count": null,
   "id": "75ffb9a6",
   "metadata": {},
   "outputs": [],
   "source": []
  },
  {
   "cell_type": "code",
   "execution_count": null,
   "id": "233541f9",
   "metadata": {},
   "outputs": [],
   "source": []
  },
  {
   "cell_type": "code",
   "execution_count": null,
   "id": "8cf18382",
   "metadata": {},
   "outputs": [],
   "source": []
  },
  {
   "cell_type": "code",
   "execution_count": null,
   "id": "7bc020bd",
   "metadata": {},
   "outputs": [],
   "source": []
  },
  {
   "cell_type": "code",
   "execution_count": null,
   "id": "bcc73b64",
   "metadata": {},
   "outputs": [],
   "source": []
  },
  {
   "cell_type": "code",
   "execution_count": null,
   "id": "96134a3b",
   "metadata": {},
   "outputs": [],
   "source": []
  },
  {
   "cell_type": "code",
   "execution_count": null,
   "id": "b35fe76d",
   "metadata": {},
   "outputs": [],
   "source": []
  },
  {
   "cell_type": "code",
   "execution_count": null,
   "id": "809a449c",
   "metadata": {},
   "outputs": [],
   "source": []
  },
  {
   "cell_type": "code",
   "execution_count": null,
   "id": "c65303a7",
   "metadata": {},
   "outputs": [],
   "source": []
  },
  {
   "cell_type": "code",
   "execution_count": null,
   "id": "32c6042e",
   "metadata": {},
   "outputs": [],
   "source": []
  },
  {
   "cell_type": "code",
   "execution_count": null,
   "id": "c5880f22",
   "metadata": {},
   "outputs": [],
   "source": []
  },
  {
   "cell_type": "code",
   "execution_count": null,
   "id": "7a22d496",
   "metadata": {},
   "outputs": [],
   "source": []
  },
  {
   "cell_type": "code",
   "execution_count": null,
   "id": "a2a8a63e",
   "metadata": {},
   "outputs": [],
   "source": []
  }
 ],
 "metadata": {
  "kernelspec": {
   "display_name": "Python 3 (ipykernel)",
   "language": "python",
   "name": "python3"
  },
  "language_info": {
   "codemirror_mode": {
    "name": "ipython",
    "version": 3
   },
   "file_extension": ".py",
   "mimetype": "text/x-python",
   "name": "python",
   "nbconvert_exporter": "python",
   "pygments_lexer": "ipython3",
   "version": "3.11.0"
  },
  "vscode": {
   "interpreter": {
    "hash": "c42d99d755d00efaf066b964ceed011a4027ae5af520c8ef8190b9acee3a6094"
   }
  }
 },
 "nbformat": 4,
 "nbformat_minor": 5
}
