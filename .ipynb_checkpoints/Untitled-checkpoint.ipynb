{
 "cells": [
  {
   "cell_type": "code",
   "execution_count": 1,
   "id": "f01cba31",
   "metadata": {},
   "outputs": [],
   "source": [
    "import pandas as pd\n",
    "from scipy.stats import binom\n",
    "from random import *\n",
    "from math import floor"
   ]
  },
  {
   "cell_type": "code",
   "execution_count": 2,
   "id": "22158aed",
   "metadata": {},
   "outputs": [],
   "source": [
    "data = {'Date': ['16/06/2018','16/06/2018','21/06/2018','21/06/2018','26/06/2018','26/06/2018'],\n",
    "       'Home_Team':['France','Pérou','Danemark','France','Danemark','Australie'],\n",
    "        'Away_Team':['Australie','Danemark','Australie','Pérou','France','Pérou'],\n",
    "        'Goal_Home':[2,0,1,1,0,0],\n",
    "        'Goal_Away':[1,1,1,0,0,2]}"
   ]
  },
  {
   "cell_type": "code",
   "execution_count": 14,
   "id": "6971ef46",
   "metadata": {},
   "outputs": [],
   "source": [
    "def Esp(e1, e2):\n",
    "    TD = df.query('Home_Team == @e1').mean()\n",
    "    TE = df.query('Away_Team == @e2').mean()\n",
    "    EX = TD['Goal_Home'] * TE['Goal_Home'] / m['Goal_Home']\n",
    "    EY = TD['Goal_Away'] * TE['Goal_Away'] / m['Goal_Away']\n",
    "    \n",
    "    return EX, EY\n",
    "\n",
    "def nb_buts(EX):\n",
    "    X = 0\n",
    "    for k in range(45):\n",
    "        X = X + floor(random() + EX/45)\n",
    "    return X\n",
    "\n",
    "def simulation(n):\n",
    "    P = {team : 0 for team in set(df['Home_Team'])}\n",
    "    for k in range(n):\n",
    "        for e1, e2, EX, EY in zip(df['Home_Team'], df['Away_Team'], df['EX'], df['EY']):\n",
    "            x = nb_buts(EX)\n",
    "            y = nb_buts(EY)\n",
    "            #print(e1, x,\"-\",y, e2)\n",
    "            if x > y :\n",
    "                P[e1] = P[e1] + 3\n",
    "            elif x == y:\n",
    "                P[e1] = P[e1] + 1\n",
    "                P[e2] = P[e2] + 1\n",
    "            else :\n",
    "                P[e2] = P[e2] + 3       \n",
    "    return {equipe : P[equipe]/n for equipe in P }"
   ]
  },
  {
   "cell_type": "code",
   "execution_count": null,
   "id": "0e8b5b9a",
   "metadata": {},
   "outputs": [
    {
     "name": "stderr",
     "output_type": "stream",
     "text": [
      "C:\\Users\\ACER\\AppData\\Local\\Temp\\ipykernel_8308\\1658623279.py:2: FutureWarning: The default value of numeric_only in DataFrame.mean is deprecated. In a future version, it will default to False. In addition, specifying 'numeric_only=None' is deprecated. Select only valid columns or specify the value of numeric_only to silence this warning.\n",
      "  m = df.mean()\n",
      "C:\\Users\\ACER\\AppData\\Local\\Temp\\ipykernel_8308\\2211438173.py:3: FutureWarning: The default value of numeric_only in DataFrame.mean is deprecated. In a future version, it will default to False. In addition, specifying 'numeric_only=None' is deprecated. Select only valid columns or specify the value of numeric_only to silence this warning.\n",
      "  TE = df.query('Away_Team == @e2').mean()\n",
      "C:\\Users\\ACER\\AppData\\Local\\Temp\\ipykernel_8308\\2211438173.py:2: FutureWarning: The default value of numeric_only in DataFrame.mean is deprecated. In a future version, it will default to False. In addition, specifying 'numeric_only=None' is deprecated. Select only valid columns or specify the value of numeric_only to silence this warning.\n",
      "  TD = df.query('Home_Team == @e1').mean()\n",
      "C:\\Users\\ACER\\AppData\\Local\\Temp\\ipykernel_8308\\2211438173.py:3: FutureWarning: The default value of numeric_only in DataFrame.mean is deprecated. In a future version, it will default to False. In addition, specifying 'numeric_only=None' is deprecated. Select only valid columns or specify the value of numeric_only to silence this warning.\n",
      "  TE = df.query('Away_Team == @e2').mean()\n"
     ]
    }
   ],
   "source": [
    "df = pd.DataFrame.from_dict(data)\n",
    "m = df.mean()\n",
    "for match in range(len(df)):\n",
    "    e1 = df.loc[match, 'Home_Team']\n",
    "    e2 = df.loc[match, 'Away_Team']\n",
    "    df.loc[match, 'EX'], df.loc[match, 'EY'] = Esp(e1, e2)\n",
    "df.head()\n",
    "P_Off = {equipe : 0 for equipe in set(df['Home_Team'])}\n",
    "for e1, e2, x, y in zip(df['Home_Team'], df['Away_Team'], df['Goal_Home'], df['Goal_Away']):\n",
    "    if x > y:\n",
    "        P_Off[e1] = P_Off[e1] + 3\n",
    "    elif x == y:\n",
    "        P_Off[e1] = P_Off[e1] + 1\n",
    "        P_Off[e2] = P_Off[e2] + 1\n",
    "    else: \n",
    "        P_Off[e2] = P_Off[e2] + 3\n",
    "P_Off\n",
    "P_Sim = simulation(1)\n",
    "M = pd.DataFrame()\n",
    "M['Equipe'] = list(set(df['Home_Team']))\n",
    "for k in range(len(M['Equipe'])):\n",
    "    equipe = M.loc[k, 'Equipe']\n",
    "    M.loc[k, 'Points_Off'] = P_Off[equipe]\n",
    "    M.loc[k, 'Points_Sim'] = P_Sim[equipe]\n",
    "\n",
    "# création de ka colonne des rangs officiels   \n",
    "M['Rangs_Off'] = M['Points_Off'].rank(ascending = False)\n",
    "M['Rangs_Off'] = M['Rangs_Off'].astype(int)\n",
    "\n",
    "# création de ka colonne des rangs simulés\n",
    "M['Rangs_Sim'] = M['Points_Sim'].rank(ascending = False)\n",
    "M['Rangs_Sim'] = M['Rangs_Sim'].astype(int)\n",
    "\n",
    "#Affichage de T trié selon Points_Off\n",
    "M.sort_values(by = 'Points_Sim', ascending = False)"
   ]
  }
 ],
 "metadata": {
  "kernelspec": {
   "display_name": "Python 3 (ipykernel)",
   "language": "python",
   "name": "python3"
  },
  "language_info": {
   "codemirror_mode": {
    "name": "ipython",
    "version": 3
   },
   "file_extension": ".py",
   "mimetype": "text/x-python",
   "name": "python",
   "nbconvert_exporter": "python",
   "pygments_lexer": "ipython3",
   "version": "3.11.0"
  }
 },
 "nbformat": 4,
 "nbformat_minor": 5
}
